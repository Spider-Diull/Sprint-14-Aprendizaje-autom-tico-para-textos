{
 "cells": [
  {
   "cell_type": "markdown",
   "metadata": {},
   "source": [
    "# Descripcipción del proyecto"
   ]
  },
  {
   "cell_type": "markdown",
   "metadata": {},
   "source": [
    "Film Junky Union, una nueva comunidad vanguardista para los aficionados de las películas clásicas, está desarrollando un sistema para filtrar y categorizar reseñas de películas. Nuestro objetivo es entrenar un modelo para detectar las críticas negativas de forma automática. Para lograrlo, utilizaremos un conjunto de datos de reseñas de películas de IMDB con leyendas de polaridad para construir un modelo para clasificar las reseñas positivas y negativas. Este deberá alcanzar un valor F1 de al menos 0.85."
   ]
  },
  {
   "cell_type": "markdown",
   "metadata": {},
   "source": [
    "## Inicialización"
   ]
  },
  {
   "cell_type": "code",
   "execution_count": 1,
   "metadata": {},
   "outputs": [],
   "source": [
    "import math\n",
    "\n",
    "import numpy as np\n",
    "import pandas as pd\n",
    "\n",
    "import matplotlib\n",
    "import matplotlib.pyplot as plt\n",
    "import matplotlib.dates as mdates\n",
    "import seaborn as sns\n",
    "\n",
    "from tqdm.auto import tqdm"
   ]
  },
  {
   "cell_type": "code",
   "execution_count": 2,
   "metadata": {},
   "outputs": [],
   "source": [
    "%matplotlib inline\n",
    "%config InlineBackend.figure_format = 'png'\n",
    "# la siguiente línea proporciona gráficos de mejor calidad en pantallas HiDPI\n",
    "# %config InlineBackend.figure_format = 'retina'\n",
    "\n",
    "plt.style.use('seaborn')"
   ]
  },
  {
   "cell_type": "code",
   "execution_count": 3,
   "metadata": {},
   "outputs": [],
   "source": [
    "# esto es para usar progress_apply, puedes leer más en https://pypi.org/project/tqdm/#pandas-integration\n",
    "tqdm.pandas()"
   ]
  },
  {
   "cell_type": "markdown",
   "metadata": {},
   "source": [
    "## Cargar datos"
   ]
  },
  {
   "cell_type": "code",
   "execution_count": 4,
   "metadata": {},
   "outputs": [],
   "source": [
    "df_reviews = pd.read_csv('/datasets/imdb_reviews.tsv', sep='\\t', dtype={'votes': 'Int64'})"
   ]
  },
  {
   "cell_type": "code",
   "execution_count": 5,
   "metadata": {},
   "outputs": [
    {
     "name": "stdout",
     "output_type": "stream",
     "text": [
      "<class 'pandas.core.frame.DataFrame'>\n",
      "RangeIndex: 47331 entries, 0 to 47330\n",
      "Data columns (total 17 columns):\n",
      " #   Column           Non-Null Count  Dtype  \n",
      "---  ------           --------------  -----  \n",
      " 0   tconst           47331 non-null  object \n",
      " 1   title_type       47331 non-null  object \n",
      " 2   primary_title    47331 non-null  object \n",
      " 3   original_title   47331 non-null  object \n",
      " 4   start_year       47331 non-null  int64  \n",
      " 5   end_year         47331 non-null  object \n",
      " 6   runtime_minutes  47331 non-null  object \n",
      " 7   is_adult         47331 non-null  int64  \n",
      " 8   genres           47331 non-null  object \n",
      " 9   average_rating   47329 non-null  float64\n",
      " 10  votes            47329 non-null  Int64  \n",
      " 11  review           47331 non-null  object \n",
      " 12  rating           47331 non-null  int64  \n",
      " 13  sp               47331 non-null  object \n",
      " 14  pos              47331 non-null  int64  \n",
      " 15  ds_part          47331 non-null  object \n",
      " 16  idx              47331 non-null  int64  \n",
      "dtypes: Int64(1), float64(1), int64(5), object(10)\n",
      "memory usage: 6.2+ MB\n"
     ]
    }
   ],
   "source": [
    "df_reviews.info()"
   ]
  },
  {
   "cell_type": "code",
   "execution_count": 6,
   "metadata": {},
   "outputs": [
    {
     "data": {
      "text/html": [
       "<div>\n",
       "<style scoped>\n",
       "    .dataframe tbody tr th:only-of-type {\n",
       "        vertical-align: middle;\n",
       "    }\n",
       "\n",
       "    .dataframe tbody tr th {\n",
       "        vertical-align: top;\n",
       "    }\n",
       "\n",
       "    .dataframe thead th {\n",
       "        text-align: right;\n",
       "    }\n",
       "</style>\n",
       "<table border=\"1\" class=\"dataframe\">\n",
       "  <thead>\n",
       "    <tr style=\"text-align: right;\">\n",
       "      <th></th>\n",
       "      <th>start_year</th>\n",
       "      <th>is_adult</th>\n",
       "      <th>average_rating</th>\n",
       "      <th>votes</th>\n",
       "      <th>rating</th>\n",
       "      <th>pos</th>\n",
       "      <th>idx</th>\n",
       "    </tr>\n",
       "  </thead>\n",
       "  <tbody>\n",
       "    <tr>\n",
       "      <th>count</th>\n",
       "      <td>47331.000000</td>\n",
       "      <td>47331.000000</td>\n",
       "      <td>47329.000000</td>\n",
       "      <td>4.732900e+04</td>\n",
       "      <td>47331.000000</td>\n",
       "      <td>47331.000000</td>\n",
       "      <td>47331.000000</td>\n",
       "    </tr>\n",
       "    <tr>\n",
       "      <th>mean</th>\n",
       "      <td>1989.631235</td>\n",
       "      <td>0.001732</td>\n",
       "      <td>5.998278</td>\n",
       "      <td>2.556292e+04</td>\n",
       "      <td>5.484608</td>\n",
       "      <td>0.498954</td>\n",
       "      <td>6279.697999</td>\n",
       "    </tr>\n",
       "    <tr>\n",
       "      <th>std</th>\n",
       "      <td>19.600364</td>\n",
       "      <td>0.041587</td>\n",
       "      <td>1.494289</td>\n",
       "      <td>8.367004e+04</td>\n",
       "      <td>3.473109</td>\n",
       "      <td>0.500004</td>\n",
       "      <td>3605.702545</td>\n",
       "    </tr>\n",
       "    <tr>\n",
       "      <th>min</th>\n",
       "      <td>1894.000000</td>\n",
       "      <td>0.000000</td>\n",
       "      <td>1.400000</td>\n",
       "      <td>9.000000e+00</td>\n",
       "      <td>1.000000</td>\n",
       "      <td>0.000000</td>\n",
       "      <td>0.000000</td>\n",
       "    </tr>\n",
       "    <tr>\n",
       "      <th>25%</th>\n",
       "      <td>1982.000000</td>\n",
       "      <td>0.000000</td>\n",
       "      <td>5.100000</td>\n",
       "      <td>8.270000e+02</td>\n",
       "      <td>2.000000</td>\n",
       "      <td>0.000000</td>\n",
       "      <td>3162.000000</td>\n",
       "    </tr>\n",
       "    <tr>\n",
       "      <th>50%</th>\n",
       "      <td>1998.000000</td>\n",
       "      <td>0.000000</td>\n",
       "      <td>6.300000</td>\n",
       "      <td>3.197000e+03</td>\n",
       "      <td>4.000000</td>\n",
       "      <td>0.000000</td>\n",
       "      <td>6299.000000</td>\n",
       "    </tr>\n",
       "    <tr>\n",
       "      <th>75%</th>\n",
       "      <td>2004.000000</td>\n",
       "      <td>0.000000</td>\n",
       "      <td>7.100000</td>\n",
       "      <td>1.397400e+04</td>\n",
       "      <td>9.000000</td>\n",
       "      <td>1.000000</td>\n",
       "      <td>9412.000000</td>\n",
       "    </tr>\n",
       "    <tr>\n",
       "      <th>max</th>\n",
       "      <td>2010.000000</td>\n",
       "      <td>1.000000</td>\n",
       "      <td>9.700000</td>\n",
       "      <td>1.739448e+06</td>\n",
       "      <td>10.000000</td>\n",
       "      <td>1.000000</td>\n",
       "      <td>12499.000000</td>\n",
       "    </tr>\n",
       "  </tbody>\n",
       "</table>\n",
       "</div>"
      ],
      "text/plain": [
       "         start_year      is_adult  average_rating         votes        rating  \\\n",
       "count  47331.000000  47331.000000    47329.000000  4.732900e+04  47331.000000   \n",
       "mean    1989.631235      0.001732        5.998278  2.556292e+04      5.484608   \n",
       "std       19.600364      0.041587        1.494289  8.367004e+04      3.473109   \n",
       "min     1894.000000      0.000000        1.400000  9.000000e+00      1.000000   \n",
       "25%     1982.000000      0.000000        5.100000  8.270000e+02      2.000000   \n",
       "50%     1998.000000      0.000000        6.300000  3.197000e+03      4.000000   \n",
       "75%     2004.000000      0.000000        7.100000  1.397400e+04      9.000000   \n",
       "max     2010.000000      1.000000        9.700000  1.739448e+06     10.000000   \n",
       "\n",
       "                pos           idx  \n",
       "count  47331.000000  47331.000000  \n",
       "mean       0.498954   6279.697999  \n",
       "std        0.500004   3605.702545  \n",
       "min        0.000000      0.000000  \n",
       "25%        0.000000   3162.000000  \n",
       "50%        0.000000   6299.000000  \n",
       "75%        1.000000   9412.000000  \n",
       "max        1.000000  12499.000000  "
      ]
     },
     "execution_count": 6,
     "metadata": {},
     "output_type": "execute_result"
    }
   ],
   "source": [
    "df_reviews.describe()"
   ]
  },
  {
   "cell_type": "code",
   "execution_count": 7,
   "metadata": {},
   "outputs": [
    {
     "data": {
      "text/html": [
       "<div>\n",
       "<style scoped>\n",
       "    .dataframe tbody tr th:only-of-type {\n",
       "        vertical-align: middle;\n",
       "    }\n",
       "\n",
       "    .dataframe tbody tr th {\n",
       "        vertical-align: top;\n",
       "    }\n",
       "\n",
       "    .dataframe thead th {\n",
       "        text-align: right;\n",
       "    }\n",
       "</style>\n",
       "<table border=\"1\" class=\"dataframe\">\n",
       "  <thead>\n",
       "    <tr style=\"text-align: right;\">\n",
       "      <th></th>\n",
       "      <th>tconst</th>\n",
       "      <th>title_type</th>\n",
       "      <th>primary_title</th>\n",
       "      <th>original_title</th>\n",
       "      <th>start_year</th>\n",
       "      <th>end_year</th>\n",
       "      <th>runtime_minutes</th>\n",
       "      <th>is_adult</th>\n",
       "      <th>genres</th>\n",
       "      <th>average_rating</th>\n",
       "      <th>votes</th>\n",
       "      <th>review</th>\n",
       "      <th>rating</th>\n",
       "      <th>sp</th>\n",
       "      <th>pos</th>\n",
       "      <th>ds_part</th>\n",
       "      <th>idx</th>\n",
       "    </tr>\n",
       "  </thead>\n",
       "  <tbody>\n",
       "    <tr>\n",
       "      <th>0</th>\n",
       "      <td>tt0068152</td>\n",
       "      <td>movie</td>\n",
       "      <td>$</td>\n",
       "      <td>$</td>\n",
       "      <td>1971</td>\n",
       "      <td>\\N</td>\n",
       "      <td>121</td>\n",
       "      <td>0</td>\n",
       "      <td>Comedy,Crime,Drama</td>\n",
       "      <td>6.3</td>\n",
       "      <td>2218</td>\n",
       "      <td>The pakage implies that Warren Beatty and Gold...</td>\n",
       "      <td>1</td>\n",
       "      <td>neg</td>\n",
       "      <td>0</td>\n",
       "      <td>train</td>\n",
       "      <td>8335</td>\n",
       "    </tr>\n",
       "    <tr>\n",
       "      <th>1</th>\n",
       "      <td>tt0068152</td>\n",
       "      <td>movie</td>\n",
       "      <td>$</td>\n",
       "      <td>$</td>\n",
       "      <td>1971</td>\n",
       "      <td>\\N</td>\n",
       "      <td>121</td>\n",
       "      <td>0</td>\n",
       "      <td>Comedy,Crime,Drama</td>\n",
       "      <td>6.3</td>\n",
       "      <td>2218</td>\n",
       "      <td>How the hell did they get this made?! Presenti...</td>\n",
       "      <td>1</td>\n",
       "      <td>neg</td>\n",
       "      <td>0</td>\n",
       "      <td>train</td>\n",
       "      <td>8336</td>\n",
       "    </tr>\n",
       "    <tr>\n",
       "      <th>2</th>\n",
       "      <td>tt0313150</td>\n",
       "      <td>short</td>\n",
       "      <td>'15'</td>\n",
       "      <td>'15'</td>\n",
       "      <td>2002</td>\n",
       "      <td>\\N</td>\n",
       "      <td>25</td>\n",
       "      <td>0</td>\n",
       "      <td>Comedy,Drama,Short</td>\n",
       "      <td>6.3</td>\n",
       "      <td>184</td>\n",
       "      <td>There is no real story the film seems more lik...</td>\n",
       "      <td>3</td>\n",
       "      <td>neg</td>\n",
       "      <td>0</td>\n",
       "      <td>test</td>\n",
       "      <td>2489</td>\n",
       "    </tr>\n",
       "    <tr>\n",
       "      <th>3</th>\n",
       "      <td>tt0313150</td>\n",
       "      <td>short</td>\n",
       "      <td>'15'</td>\n",
       "      <td>'15'</td>\n",
       "      <td>2002</td>\n",
       "      <td>\\N</td>\n",
       "      <td>25</td>\n",
       "      <td>0</td>\n",
       "      <td>Comedy,Drama,Short</td>\n",
       "      <td>6.3</td>\n",
       "      <td>184</td>\n",
       "      <td>Um .... a serious film about troubled teens in...</td>\n",
       "      <td>7</td>\n",
       "      <td>pos</td>\n",
       "      <td>1</td>\n",
       "      <td>test</td>\n",
       "      <td>9280</td>\n",
       "    </tr>\n",
       "    <tr>\n",
       "      <th>4</th>\n",
       "      <td>tt0313150</td>\n",
       "      <td>short</td>\n",
       "      <td>'15'</td>\n",
       "      <td>'15'</td>\n",
       "      <td>2002</td>\n",
       "      <td>\\N</td>\n",
       "      <td>25</td>\n",
       "      <td>0</td>\n",
       "      <td>Comedy,Drama,Short</td>\n",
       "      <td>6.3</td>\n",
       "      <td>184</td>\n",
       "      <td>I'm totally agree with GarryJohal from Singapo...</td>\n",
       "      <td>9</td>\n",
       "      <td>pos</td>\n",
       "      <td>1</td>\n",
       "      <td>test</td>\n",
       "      <td>9281</td>\n",
       "    </tr>\n",
       "    <tr>\n",
       "      <th>5</th>\n",
       "      <td>tt0313150</td>\n",
       "      <td>short</td>\n",
       "      <td>'15'</td>\n",
       "      <td>'15'</td>\n",
       "      <td>2002</td>\n",
       "      <td>\\N</td>\n",
       "      <td>25</td>\n",
       "      <td>0</td>\n",
       "      <td>Comedy,Drama,Short</td>\n",
       "      <td>6.3</td>\n",
       "      <td>184</td>\n",
       "      <td>This is the first movie I've seen from Singapo...</td>\n",
       "      <td>9</td>\n",
       "      <td>pos</td>\n",
       "      <td>1</td>\n",
       "      <td>test</td>\n",
       "      <td>9282</td>\n",
       "    </tr>\n",
       "    <tr>\n",
       "      <th>6</th>\n",
       "      <td>tt0313150</td>\n",
       "      <td>short</td>\n",
       "      <td>'15'</td>\n",
       "      <td>'15'</td>\n",
       "      <td>2002</td>\n",
       "      <td>\\N</td>\n",
       "      <td>25</td>\n",
       "      <td>0</td>\n",
       "      <td>Comedy,Drama,Short</td>\n",
       "      <td>6.3</td>\n",
       "      <td>184</td>\n",
       "      <td>Yes non-Singaporean's can't see what's the big...</td>\n",
       "      <td>9</td>\n",
       "      <td>pos</td>\n",
       "      <td>1</td>\n",
       "      <td>test</td>\n",
       "      <td>9283</td>\n",
       "    </tr>\n",
       "    <tr>\n",
       "      <th>7</th>\n",
       "      <td>tt0035958</td>\n",
       "      <td>movie</td>\n",
       "      <td>'Gung Ho!': The Story of Carlson's Makin Islan...</td>\n",
       "      <td>'Gung Ho!': The Story of Carlson's Makin Islan...</td>\n",
       "      <td>1943</td>\n",
       "      <td>\\N</td>\n",
       "      <td>88</td>\n",
       "      <td>0</td>\n",
       "      <td>Drama,History,War</td>\n",
       "      <td>6.1</td>\n",
       "      <td>1240</td>\n",
       "      <td>This true story of Carlson's Raiders is more o...</td>\n",
       "      <td>2</td>\n",
       "      <td>neg</td>\n",
       "      <td>0</td>\n",
       "      <td>train</td>\n",
       "      <td>9903</td>\n",
       "    </tr>\n",
       "    <tr>\n",
       "      <th>8</th>\n",
       "      <td>tt0035958</td>\n",
       "      <td>movie</td>\n",
       "      <td>'Gung Ho!': The Story of Carlson's Makin Islan...</td>\n",
       "      <td>'Gung Ho!': The Story of Carlson's Makin Islan...</td>\n",
       "      <td>1943</td>\n",
       "      <td>\\N</td>\n",
       "      <td>88</td>\n",
       "      <td>0</td>\n",
       "      <td>Drama,History,War</td>\n",
       "      <td>6.1</td>\n",
       "      <td>1240</td>\n",
       "      <td>Should have been titled 'Balderdash!' Little i...</td>\n",
       "      <td>2</td>\n",
       "      <td>neg</td>\n",
       "      <td>0</td>\n",
       "      <td>train</td>\n",
       "      <td>9905</td>\n",
       "    </tr>\n",
       "    <tr>\n",
       "      <th>9</th>\n",
       "      <td>tt0035958</td>\n",
       "      <td>movie</td>\n",
       "      <td>'Gung Ho!': The Story of Carlson's Makin Islan...</td>\n",
       "      <td>'Gung Ho!': The Story of Carlson's Makin Islan...</td>\n",
       "      <td>1943</td>\n",
       "      <td>\\N</td>\n",
       "      <td>88</td>\n",
       "      <td>0</td>\n",
       "      <td>Drama,History,War</td>\n",
       "      <td>6.1</td>\n",
       "      <td>1240</td>\n",
       "      <td>The movie 'Gung Ho!': The Story of Carlson's M...</td>\n",
       "      <td>4</td>\n",
       "      <td>neg</td>\n",
       "      <td>0</td>\n",
       "      <td>train</td>\n",
       "      <td>9904</td>\n",
       "    </tr>\n",
       "  </tbody>\n",
       "</table>\n",
       "</div>"
      ],
      "text/plain": [
       "      tconst title_type                                      primary_title  \\\n",
       "0  tt0068152      movie                                                  $   \n",
       "1  tt0068152      movie                                                  $   \n",
       "2  tt0313150      short                                               '15'   \n",
       "3  tt0313150      short                                               '15'   \n",
       "4  tt0313150      short                                               '15'   \n",
       "5  tt0313150      short                                               '15'   \n",
       "6  tt0313150      short                                               '15'   \n",
       "7  tt0035958      movie  'Gung Ho!': The Story of Carlson's Makin Islan...   \n",
       "8  tt0035958      movie  'Gung Ho!': The Story of Carlson's Makin Islan...   \n",
       "9  tt0035958      movie  'Gung Ho!': The Story of Carlson's Makin Islan...   \n",
       "\n",
       "                                      original_title  start_year end_year  \\\n",
       "0                                                  $        1971       \\N   \n",
       "1                                                  $        1971       \\N   \n",
       "2                                               '15'        2002       \\N   \n",
       "3                                               '15'        2002       \\N   \n",
       "4                                               '15'        2002       \\N   \n",
       "5                                               '15'        2002       \\N   \n",
       "6                                               '15'        2002       \\N   \n",
       "7  'Gung Ho!': The Story of Carlson's Makin Islan...        1943       \\N   \n",
       "8  'Gung Ho!': The Story of Carlson's Makin Islan...        1943       \\N   \n",
       "9  'Gung Ho!': The Story of Carlson's Makin Islan...        1943       \\N   \n",
       "\n",
       "  runtime_minutes  is_adult              genres  average_rating  votes  \\\n",
       "0             121         0  Comedy,Crime,Drama             6.3   2218   \n",
       "1             121         0  Comedy,Crime,Drama             6.3   2218   \n",
       "2              25         0  Comedy,Drama,Short             6.3    184   \n",
       "3              25         0  Comedy,Drama,Short             6.3    184   \n",
       "4              25         0  Comedy,Drama,Short             6.3    184   \n",
       "5              25         0  Comedy,Drama,Short             6.3    184   \n",
       "6              25         0  Comedy,Drama,Short             6.3    184   \n",
       "7              88         0   Drama,History,War             6.1   1240   \n",
       "8              88         0   Drama,History,War             6.1   1240   \n",
       "9              88         0   Drama,History,War             6.1   1240   \n",
       "\n",
       "                                              review  rating   sp  pos  \\\n",
       "0  The pakage implies that Warren Beatty and Gold...       1  neg    0   \n",
       "1  How the hell did they get this made?! Presenti...       1  neg    0   \n",
       "2  There is no real story the film seems more lik...       3  neg    0   \n",
       "3  Um .... a serious film about troubled teens in...       7  pos    1   \n",
       "4  I'm totally agree with GarryJohal from Singapo...       9  pos    1   \n",
       "5  This is the first movie I've seen from Singapo...       9  pos    1   \n",
       "6  Yes non-Singaporean's can't see what's the big...       9  pos    1   \n",
       "7  This true story of Carlson's Raiders is more o...       2  neg    0   \n",
       "8  Should have been titled 'Balderdash!' Little i...       2  neg    0   \n",
       "9  The movie 'Gung Ho!': The Story of Carlson's M...       4  neg    0   \n",
       "\n",
       "  ds_part   idx  \n",
       "0   train  8335  \n",
       "1   train  8336  \n",
       "2    test  2489  \n",
       "3    test  9280  \n",
       "4    test  9281  \n",
       "5    test  9282  \n",
       "6    test  9283  \n",
       "7   train  9903  \n",
       "8   train  9905  \n",
       "9   train  9904  "
      ]
     },
     "execution_count": 7,
     "metadata": {},
     "output_type": "execute_result"
    }
   ],
   "source": [
    "df_reviews.head(10)"
   ]
  },
  {
   "cell_type": "markdown",
   "metadata": {},
   "source": [
    "## EDA"
   ]
  },
  {
   "cell_type": "markdown",
   "metadata": {},
   "source": [
    "Veamos el número de películas y reseñas a lo largo de los años."
   ]
  },
  {
   "cell_type": "code",
   "execution_count": 8,
   "metadata": {},
   "outputs": [
    {
     "data": {
      "image/png": "[encoded data removed]",
      "text/plain": [
       "<Figure size 1600x800 with 3 Axes>"
      ]
     },
     "metadata": {},
     "output_type": "display_data"
    }
   ],
   "source": [
    "fig, axs = plt.subplots(2, 1, figsize=(16, 8))\n",
    "\n",
    "ax = axs[0]\n",
    "\n",
    "dft1 = df_reviews[['tconst', 'start_year']].drop_duplicates() \\\n",
    "    ['start_year'].value_counts().sort_index()\n",
    "dft1 = dft1.reindex(index=np.arange(dft1.index.min(), max(dft1.index.max(), 2021))).fillna(0)\n",
    "dft1.plot(kind='bar', ax=ax)\n",
    "ax.set_title('Número de películas a lo largo de los años')\n",
    "\n",
    "ax = axs[1]\n",
    "\n",
    "dft2 = df_reviews.groupby(['start_year', 'pos'])['pos'].count().unstack()\n",
    "dft2 = dft2.reindex(index=np.arange(dft2.index.min(), max(dft2.index.max(), 2021))).fillna(0)\n",
    "\n",
    "dft2.plot(kind='bar', stacked=True, label='#reviews (neg, pos)', ax=ax)\n",
    "\n",
    "dft2 = df_reviews['start_year'].value_counts().sort_index()\n",
    "dft2 = dft2.reindex(index=np.arange(dft2.index.min(), max(dft2.index.max(), 2021))).fillna(0)\n",
    "dft3 = (dft2/dft1).fillna(0)\n",
    "axt = ax.twinx()\n",
    "dft3.reset_index(drop=True).rolling(5).mean().plot(color='orange', label='reviews per movie (avg over 5 years)', ax=axt)\n",
    "\n",
    "lines, labels = axt.get_legend_handles_labels()\n",
    "ax.legend(lines, labels, loc='upper left')\n",
    "\n",
    "ax.set_title('Número de reseñas a lo largo de los años')\n",
    "\n",
    "fig.tight_layout()"
   ]
  },
  {
   "cell_type": "markdown",
   "metadata": {},
   "source": [
    "Veamos la distribución del número de reseñas por película con el conteo exacto y KDE (solo para saber cómo puede diferir del conteo exacto)"
   ]
  },
  {
   "cell_type": "code",
   "execution_count": 9,
   "metadata": {},
   "outputs": [
    {
     "data": {
      "image/png": "[encoded data removed]",
      "text/plain": [
       "<Figure size 1600x500 with 2 Axes>"
      ]
     },
     "metadata": {},
     "output_type": "display_data"
    }
   ],
   "source": [
    "fig, axs = plt.subplots(1, 2, figsize=(16, 5))\n",
    "\n",
    "ax = axs[0]\n",
    "dft = df_reviews.groupby('tconst')['review'].count() \\\n",
    "    .value_counts() \\\n",
    "    .sort_index()\n",
    "dft.plot.bar(ax=ax)\n",
    "ax.set_title('Gráfico de barras de #Reseñas por película')\n",
    "\n",
    "ax = axs[1]\n",
    "dft = df_reviews.groupby('tconst')['review'].count()\n",
    "sns.kdeplot(dft, ax=ax)\n",
    "ax.set_title('Gráfico KDE de #Reseñas por película')\n",
    "\n",
    "fig.tight_layout()"
   ]
  },
  {
   "cell_type": "code",
   "execution_count": 10,
   "metadata": {},
   "outputs": [
    {
     "data": {
      "text/plain": [
       "0    23715\n",
       "1    23616\n",
       "Name: pos, dtype: int64"
      ]
     },
     "execution_count": 10,
     "metadata": {},
     "output_type": "execute_result"
    }
   ],
   "source": [
    "df_reviews['pos'].value_counts()"
   ]
  },
  {
   "cell_type": "code",
   "execution_count": 11,
   "metadata": {},
   "outputs": [
    {
     "data": {
      "image/png": "[encoded data removed]",
      "text/plain": [
       "<Figure size 1200x400 with 2 Axes>"
      ]
     },
     "metadata": {},
     "output_type": "display_data"
    }
   ],
   "source": [
    "fig, axs = plt.subplots(1, 2, figsize=(12, 4))\n",
    "\n",
    "ax = axs[0]\n",
    "dft = df_reviews.query('ds_part == \"train\"')['rating'].value_counts().sort_index()\n",
    "dft = dft.reindex(index=np.arange(min(dft.index.min(), 1), max(dft.index.max(), 11))).fillna(0)\n",
    "dft.plot.bar(ax=ax)\n",
    "ax.set_ylim([0, 5000])\n",
    "ax.set_title('El conjunto de entrenamiento: distribución de puntuaciones')\n",
    "\n",
    "ax = axs[1]\n",
    "dft = df_reviews.query('ds_part == \"test\"')['rating'].value_counts().sort_index()\n",
    "dft = dft.reindex(index=np.arange(min(dft.index.min(), 1), max(dft.index.max(), 11))).fillna(0)\n",
    "dft.plot.bar(ax=ax)\n",
    "ax.set_ylim([0, 5000])\n",
    "ax.set_title('El conjunto de prueba: distribución de puntuaciones')\n",
    "\n",
    "fig.tight_layout()"
   ]
  },
  {
   "cell_type": "markdown",
   "metadata": {},
   "source": [
    "Distribución de reseñas negativas y positivas a lo largo de los años para dos partes del conjunto de datos"
   ]
  },
  {
   "cell_type": "code",
   "execution_count": 12,
   "metadata": {},
   "outputs": [
    {
     "name": "stderr",
     "output_type": "stream",
     "text": [
      "/opt/conda/envs/python3/lib/python3.9/site-packages/seaborn/distributions.py:1666: UserWarning: Support for alternate kernels has been removed. Using Gaussian kernel.\n",
      "  warnings.warn(msg, UserWarning)\n",
      "/opt/conda/envs/python3/lib/python3.9/site-packages/seaborn/distributions.py:1666: UserWarning: Support for alternate kernels has been removed. Using Gaussian kernel.\n",
      "  warnings.warn(msg, UserWarning)\n",
      "/opt/conda/envs/python3/lib/python3.9/site-packages/seaborn/distributions.py:1666: UserWarning: Support for alternate kernels has been removed. Using Gaussian kernel.\n",
      "  warnings.warn(msg, UserWarning)\n",
      "/opt/conda/envs/python3/lib/python3.9/site-packages/seaborn/distributions.py:1666: UserWarning: Support for alternate kernels has been removed. Using Gaussian kernel.\n",
      "  warnings.warn(msg, UserWarning)\n"
     ]
    },
    {
     "data": {
      "image/png": "[encoded data removed]",
      "text/plain": [
       "<Figure size 1600x800 with 4 Axes>"
      ]
     },
     "metadata": {},
     "output_type": "display_data"
    }
   ],
   "source": [
    "fig, axs = plt.subplots(2, 2, figsize=(16, 8), gridspec_kw=dict(width_ratios=(2, 1), height_ratios=(1, 1)))\n",
    "\n",
    "ax = axs[0][0]\n",
    "\n",
    "dft = df_reviews.query('ds_part == \"train\"').groupby(['start_year', 'pos'])['pos'].count().unstack()\n",
    "dft.index = dft.index.astype('int')\n",
    "dft = dft.reindex(index=np.arange(dft.index.min(), max(dft.index.max(), 2020))).fillna(0)\n",
    "dft.plot(kind='bar', stacked=True, ax=ax)\n",
    "ax.set_title('El conjunto de entrenamiento: número de reseñas de diferentes polaridades por año')\n",
    "\n",
    "ax = axs[0][1]\n",
    "\n",
    "dft = df_reviews.query('ds_part == \"train\"').groupby(['tconst', 'pos'])['pos'].count().unstack()\n",
    "sns.kdeplot(dft[0], color='blue', label='negative', kernel='epa', ax=ax)\n",
    "sns.kdeplot(dft[1], color='green', label='positive', kernel='epa', ax=ax)\n",
    "ax.legend()\n",
    "ax.set_title('El conjunto de entrenamiento: distribución de diferentes polaridades por película')\n",
    "\n",
    "ax = axs[1][0]\n",
    "\n",
    "dft = df_reviews.query('ds_part == \"test\"').groupby(['start_year', 'pos'])['pos'].count().unstack()\n",
    "dft.index = dft.index.astype('int')\n",
    "dft = dft.reindex(index=np.arange(dft.index.min(), max(dft.index.max(), 2020))).fillna(0)\n",
    "dft.plot(kind='bar', stacked=True, ax=ax)\n",
    "ax.set_title('El conjunto de prueba: número de reseñas de diferentes polaridades por año')\n",
    "\n",
    "ax = axs[1][1]\n",
    "\n",
    "dft = df_reviews.query('ds_part == \"test\"').groupby(['tconst', 'pos'])['pos'].count().unstack()\n",
    "sns.kdeplot(dft[0], color='blue', label='negative', kernel='epa', ax=ax)\n",
    "sns.kdeplot(dft[1], color='green', label='positive', kernel='epa', ax=ax)\n",
    "ax.legend()\n",
    "ax.set_title('El conjunto de prueba: distribución de diferentes polaridades por película')\n",
    "\n",
    "fig.tight_layout()"
   ]
  },
  {
   "cell_type": "markdown",
   "metadata": {},
   "source": [
    "### Conclusion\n",
    "\n",
    "- Podemos observar que el numero de peliculas tuvo una gran alza en cierto periodo de tiempo pero las reseñas no eran proporcionales al numero de peliculas estas se mantenian constantes.\n",
    "\n",
    "- Ahora hablando de los conjuntos de entrenamiento y validación podemos observar que la distribucion de puntuaciones son practicamente iguales a simple vista y la misma situacion se repite en los graficos posteriores."
   ]
  },
  {
   "cell_type": "markdown",
   "metadata": {},
   "source": [
    "## Procedimiento de evaluación"
   ]
  },
  {
   "cell_type": "markdown",
   "metadata": {},
   "source": [
    "Composición de una rutina de evaluación que se pueda usar para todos los modelos en este proyecto"
   ]
  },
  {
   "cell_type": "code",
   "execution_count": 13,
   "metadata": {},
   "outputs": [],
   "source": [
    "import sklearn.metrics as metrics\n",
    "def evaluate_model(model, train_features, train_target, test_features, test_target):\n",
    "    \n",
    "    eval_stats = {}\n",
    "    \n",
    "    fig, axs = plt.subplots(1, 3, figsize=(20, 6)) \n",
    "    \n",
    "    for type, features, target in (('train', train_features, train_target), ('test', test_features, test_target)):\n",
    "        \n",
    "        eval_stats[type] = {}\n",
    "    \n",
    "        pred_target = model.predict(features)\n",
    "        pred_proba = model.predict_proba(features)[:, 1]\n",
    "        \n",
    "        # F1\n",
    "        f1_thresholds = np.arange(0, 1.01, 0.05)\n",
    "        f1_scores = [metrics.f1_score(target, pred_proba>=threshold) for threshold in f1_thresholds]\n",
    "        \n",
    "        # ROC\n",
    "        fpr, tpr, roc_thresholds = metrics.roc_curve(target, pred_proba)\n",
    "        roc_auc = metrics.roc_auc_score(target, pred_proba)    \n",
    "        eval_stats[type]['ROC AUC'] = roc_auc\n",
    "\n",
    "        # PRC\n",
    "        precision, recall, pr_thresholds = metrics.precision_recall_curve(target, pred_proba)\n",
    "        aps = metrics.average_precision_score(target, pred_proba)\n",
    "        eval_stats[type]['APS'] = aps\n",
    "        \n",
    "        if type == 'train':\n",
    "            color = 'blue'\n",
    "        else:\n",
    "            color = 'green'\n",
    "\n",
    "        # Valor F1\n",
    "        ax = axs[0]\n",
    "        max_f1_score_idx = np.argmax(f1_scores)\n",
    "        ax.plot(f1_thresholds, f1_scores, color=color, label=f'{type}, max={f1_scores[max_f1_score_idx]:.2f} @ {f1_thresholds[max_f1_score_idx]:.2f}')\n",
    "        # establecer cruces para algunos umbrales        \n",
    "        for threshold in (0.2, 0.4, 0.5, 0.6, 0.8):\n",
    "            closest_value_idx = np.argmin(np.abs(f1_thresholds-threshold))\n",
    "            marker_color = 'orange' if threshold != 0.5 else 'red'\n",
    "            ax.plot(f1_thresholds[closest_value_idx], f1_scores[closest_value_idx], color=marker_color, marker='X', markersize=7)\n",
    "        ax.set_xlim([-0.02, 1.02])    \n",
    "        ax.set_ylim([-0.02, 1.02])\n",
    "        ax.set_xlabel('threshold')\n",
    "        ax.set_ylabel('F1')\n",
    "        ax.legend(loc='lower center')\n",
    "        ax.set_title(f'Valor F1') \n",
    "\n",
    "        # ROC\n",
    "        ax = axs[1]    \n",
    "        ax.plot(fpr, tpr, color=color, label=f'{type}, ROC AUC={roc_auc:.2f}')\n",
    "        # establecer cruces para algunos umbrales        \n",
    "        for threshold in (0.2, 0.4, 0.5, 0.6, 0.8):\n",
    "            closest_value_idx = np.argmin(np.abs(roc_thresholds-threshold))\n",
    "            marker_color = 'orange' if threshold != 0.5 else 'red'            \n",
    "            ax.plot(fpr[closest_value_idx], tpr[closest_value_idx], color=marker_color, marker='X', markersize=7)\n",
    "        ax.plot([0, 1], [0, 1], color='grey', linestyle='--')\n",
    "        ax.set_xlim([-0.02, 1.02])    \n",
    "        ax.set_ylim([-0.02, 1.02])\n",
    "        ax.set_xlabel('FPR')\n",
    "        ax.set_ylabel('TPR')\n",
    "        ax.legend(loc='lower center')        \n",
    "        ax.set_title(f'Curva ROC')\n",
    "        \n",
    "        # PRC\n",
    "        ax = axs[2]\n",
    "        ax.plot(recall, precision, color=color, label=f'{type}, AP={aps:.2f}')\n",
    "        # establecer cruces para algunos umbrales        \n",
    "        for threshold in (0.2, 0.4, 0.5, 0.6, 0.8):\n",
    "            closest_value_idx = np.argmin(np.abs(pr_thresholds-threshold))\n",
    "            marker_color = 'orange' if threshold != 0.5 else 'red'\n",
    "            ax.plot(recall[closest_value_idx], precision[closest_value_idx], color=marker_color, marker='X', markersize=7)\n",
    "        ax.set_xlim([-0.02, 1.02])    \n",
    "        ax.set_ylim([-0.02, 1.02])\n",
    "        ax.set_xlabel('recall')\n",
    "        ax.set_ylabel('precision')\n",
    "        ax.legend(loc='lower center')\n",
    "        ax.set_title(f'PRC')        \n",
    "\n",
    "        eval_stats[type]['Accuracy'] = metrics.accuracy_score(target, pred_target)\n",
    "        eval_stats[type]['F1'] = metrics.f1_score(target, pred_target)\n",
    "    \n",
    "    df_eval_stats = pd.DataFrame(eval_stats)\n",
    "    df_eval_stats = df_eval_stats.round(2)\n",
    "    df_eval_stats = df_eval_stats.reindex(index=('Exactitud', 'F1', 'APS', 'ROC AUC'))\n",
    "    \n",
    "    print(df_eval_stats)\n",
    "    \n",
    "    return"
   ]
  },
  {
   "cell_type": "markdown",
   "metadata": {},
   "source": [
    "## Normalización"
   ]
  },
  {
   "cell_type": "markdown",
   "metadata": {},
   "source": [
    "Suponemos que todos los modelos a continuación aceptan textos en minúsculas y sin dígitos, signos de puntuación, etc."
   ]
  },
  {
   "cell_type": "code",
   "execution_count": 14,
   "metadata": {},
   "outputs": [],
   "source": [
    "import re\n",
    "def clear_text(text):\n",
    "    clean_text = re.sub(r'[^a-zA-z\\']', ' ', text)\n",
    "    clean_text = \" \".join(clean_text.split())\n",
    "\n",
    "    return clean_text"
   ]
  },
  {
   "cell_type": "code",
   "execution_count": 15,
   "metadata": {},
   "outputs": [],
   "source": [
    "review = []\n",
    "for i in range(len(df_reviews)):\n",
    "    review.append(clear_text(df_reviews.loc[i,'review']))\n",
    "df_reviews['review_norm'] = review"
   ]
  },
  {
   "cell_type": "code",
   "execution_count": 16,
   "metadata": {},
   "outputs": [
    {
     "name": "stdout",
     "output_type": "stream",
     "text": [
      "<class 'pandas.core.frame.DataFrame'>\n",
      "RangeIndex: 47331 entries, 0 to 47330\n",
      "Data columns (total 18 columns):\n",
      " #   Column           Non-Null Count  Dtype  \n",
      "---  ------           --------------  -----  \n",
      " 0   tconst           47331 non-null  object \n",
      " 1   title_type       47331 non-null  object \n",
      " 2   primary_title    47331 non-null  object \n",
      " 3   original_title   47331 non-null  object \n",
      " 4   start_year       47331 non-null  int64  \n",
      " 5   end_year         47331 non-null  object \n",
      " 6   runtime_minutes  47331 non-null  object \n",
      " 7   is_adult         47331 non-null  int64  \n",
      " 8   genres           47331 non-null  object \n",
      " 9   average_rating   47329 non-null  float64\n",
      " 10  votes            47329 non-null  Int64  \n",
      " 11  review           47331 non-null  object \n",
      " 12  rating           47331 non-null  int64  \n",
      " 13  sp               47331 non-null  object \n",
      " 14  pos              47331 non-null  int64  \n",
      " 15  ds_part          47331 non-null  object \n",
      " 16  idx              47331 non-null  int64  \n",
      " 17  review_norm      47331 non-null  object \n",
      "dtypes: Int64(1), float64(1), int64(5), object(11)\n",
      "memory usage: 6.5+ MB\n"
     ]
    }
   ],
   "source": [
    "df_reviews.info()"
   ]
  },
  {
   "cell_type": "markdown",
   "metadata": {},
   "source": [
    "## División entrenamiento / prueba"
   ]
  },
  {
   "cell_type": "markdown",
   "metadata": {},
   "source": [
    "Por fortuna, todo el conjunto de datos ya está dividido en partes de entrenamiento/prueba; 'ds_part' es el indicador correspondiente."
   ]
  },
  {
   "cell_type": "code",
   "execution_count": 17,
   "metadata": {},
   "outputs": [
    {
     "name": "stdout",
     "output_type": "stream",
     "text": [
      "(23796, 18)\n",
      "(23535, 18)\n"
     ]
    }
   ],
   "source": [
    "df_reviews_train = df_reviews.query('ds_part == \"train\"').copy()\n",
    "df_reviews_test = df_reviews.query('ds_part == \"test\"').copy()\n",
    "\n",
    "train_target = df_reviews_train['pos']\n",
    "test_target = df_reviews_test['pos']\n",
    "\n",
    "print(df_reviews_train.shape)\n",
    "print(df_reviews_test.shape)"
   ]
  },
  {
   "cell_type": "markdown",
   "metadata": {},
   "source": [
    "## Trabajar con modelos"
   ]
  },
  {
   "cell_type": "markdown",
   "metadata": {},
   "source": [
    "### Modelo 0 - Constante"
   ]
  },
  {
   "cell_type": "code",
   "execution_count": 18,
   "metadata": {},
   "outputs": [],
   "source": [
    "from sklearn.dummy import DummyClassifier"
   ]
  },
  {
   "cell_type": "code",
   "execution_count": 19,
   "metadata": {},
   "outputs": [],
   "source": [
    "model_0 = DummyClassifier(strategy=\"constant\",constant=1)"
   ]
  },
  {
   "cell_type": "code",
   "execution_count": 20,
   "metadata": {},
   "outputs": [
    {
     "data": {
      "text/plain": [
       "DummyClassifier(constant=1, strategy='constant')"
      ]
     },
     "execution_count": 20,
     "metadata": {},
     "output_type": "execute_result"
    }
   ],
   "source": [
    "model_0.fit(df_reviews_train, train_target)"
   ]
  },
  {
   "cell_type": "code",
   "execution_count": 21,
   "metadata": {},
   "outputs": [
    {
     "data": {
      "text/plain": [
       "array([1, 1, 1, ..., 1, 1, 1])"
      ]
     },
     "execution_count": 21,
     "metadata": {},
     "output_type": "execute_result"
    }
   ],
   "source": [
    "model_0.predict(df_reviews_test)"
   ]
  },
  {
   "cell_type": "code",
   "execution_count": 22,
   "metadata": {},
   "outputs": [
    {
     "data": {
      "text/plain": [
       "0.4984916082430423"
      ]
     },
     "execution_count": 22,
     "metadata": {},
     "output_type": "execute_result"
    }
   ],
   "source": [
    "model_0.score(df_reviews_test, test_target)"
   ]
  },
  {
   "cell_type": "markdown",
   "metadata": {},
   "source": [
    "### Modelo 1 - NLTK, TF-IDF y LR"
   ]
  },
  {
   "cell_type": "markdown",
   "metadata": {},
   "source": [
    "TF-IDF"
   ]
  },
  {
   "cell_type": "code",
   "execution_count": 23,
   "metadata": {},
   "outputs": [],
   "source": [
    "import nltk\n",
    "\n",
    "from sklearn.feature_extraction.text import TfidfVectorizer\n",
    "from sklearn.linear_model import LogisticRegression\n",
    "\n",
    "from nltk.corpus import stopwords\n"
   ]
  },
  {
   "cell_type": "code",
   "execution_count": 24,
   "metadata": {},
   "outputs": [],
   "source": [
    "def text_preprocessing_1(text):\n",
    "    tokens = nltk.word_tokenize(text)\n",
    "    \n",
    "    return ' '.join(tokens)"
   ]
  },
  {
   "cell_type": "code",
   "execution_count": 25,
   "metadata": {},
   "outputs": [
    {
     "data": {
      "text/plain": [
       "2        There is no real story the film seems more lik...\n",
       "3        Um a serious film about troubled teens in Sing...\n",
       "4        I 'm totally agree with GarryJohal from Singap...\n",
       "5        This is the first movie I 've seen from Singap...\n",
       "6        Yes non Singaporean 's ca n't see what 's the ...\n",
       "                               ...                        \n",
       "47326    This is another of my favorite Columbos It spo...\n",
       "47327    Talk about being boring I got this expecting a...\n",
       "47328    I never thought I 'd say this about a biopic b...\n",
       "47329    Spirit and Chaos is an artistic biopic of Miya...\n",
       "47330    I 'll make this brief This was a joy to watch ...\n",
       "Name: review_norm, Length: 23535, dtype: object"
      ]
     },
     "execution_count": 25,
     "metadata": {},
     "output_type": "execute_result"
    }
   ],
   "source": [
    "df_reviews_train['review_norm'].apply(text_preprocessing_1)\n",
    "df_reviews_test['review_norm'].apply(text_preprocessing_1)"
   ]
  },
  {
   "cell_type": "code",
   "execution_count": 26,
   "metadata": {},
   "outputs": [],
   "source": [
    "train_corpus = df_reviews_train['review_norm']\n",
    "test_corpus = df_reviews_test['review_norm']\n",
    "stop_words = set(stopwords.words('english'))\n",
    "\n",
    "count_tf_idf = TfidfVectorizer(stop_words=stop_words)\n",
    "tf_idf = count_tf_idf.fit_transform(train_corpus)\n",
    "\n",
    "train_features_1 = tf_idf\n",
    "train_target = df_reviews_train['pos']\n",
    "\n",
    "test_features_1 = count_tf_idf.transform(test_corpus)"
   ]
  },
  {
   "cell_type": "code",
   "execution_count": 27,
   "metadata": {},
   "outputs": [
    {
     "name": "stdout",
     "output_type": "stream",
     "text": [
      "       pos\n",
      "0        0\n",
      "1        1\n",
      "2        1\n",
      "3        1\n",
      "4        1\n",
      "...    ...\n",
      "23530    1\n",
      "23531    0\n",
      "23532    1\n",
      "23533    1\n",
      "23534    1\n",
      "\n",
      "[23535 rows x 1 columns]\n"
     ]
    }
   ],
   "source": [
    "model_1 = LogisticRegression()\n",
    "model_1.fit(train_features_1, train_target)\n",
    "pred_1_test = model_1.predict(test_features_1)\n",
    "\n",
    "submission = pd.DataFrame({'pos':pred_1_test})\n",
    "print(submission)"
   ]
  },
  {
   "cell_type": "code",
   "execution_count": 28,
   "metadata": {
    "scrolled": false
   },
   "outputs": [
    {
     "name": "stdout",
     "output_type": "stream",
     "text": [
      "           train  test\n",
      "Exactitud    NaN   NaN\n",
      "F1          0.94  0.88\n",
      "APS         0.98  0.95\n",
      "ROC AUC     0.98  0.95\n"
     ]
    },
    {
     "data": {
      "image/png": "[encoded data removed]",
      "text/plain": [
       "<Figure size 2000x600 with 3 Axes>"
      ]
     },
     "metadata": {},
     "output_type": "display_data"
    }
   ],
   "source": [
    "evaluate_model(model_1, train_features_1, train_target, test_features_1, test_target)"
   ]
  },
  {
   "cell_type": "markdown",
   "metadata": {},
   "source": [
    "### Modelo 3 - spaCy, TF-IDF y LR"
   ]
  },
  {
   "cell_type": "code",
   "execution_count": 29,
   "metadata": {},
   "outputs": [],
   "source": [
    "import spacy\n",
    "\n",
    "nlp = spacy.load('en_core_web_sm', disable=['parser', 'ner'])"
   ]
  },
  {
   "cell_type": "code",
   "execution_count": 30,
   "metadata": {},
   "outputs": [],
   "source": [
    "def text_preprocessing_3(text):\n",
    "    \n",
    "    doc = nlp(text)\n",
    "    tokens = [token.lemma_ for token in doc if not token.is_stop]\n",
    "    tokens = [token.lemma_ for token in doc]\n",
    "    \n",
    "    return ' '.join(tokens)"
   ]
  },
  {
   "cell_type": "code",
   "execution_count": 31,
   "metadata": {},
   "outputs": [
    {
     "data": {
      "text/plain": [
       "0        the pakage imply that Warren Beatty and Goldie...\n",
       "1        how the hell do they get this make present its...\n",
       "2        there be no real story the film seem more like...\n",
       "3        um a serious film about troubled teen in Singa...\n",
       "4        I be totally agree with GarryJohal from Singap...\n",
       "                               ...                        \n",
       "47326    this be another of my favorite columbo it spor...\n",
       "47327    talk about be bore I get this expect a fascina...\n",
       "47328    I never think I would say this about a biopic ...\n",
       "47329    Spirit and Chaos be an artistic biopic of Miya...\n",
       "47330    I 'll make this brief this be a joy to watch i...\n",
       "Name: review_norm, Length: 47331, dtype: object"
      ]
     },
     "execution_count": 31,
     "metadata": {},
     "output_type": "execute_result"
    }
   ],
   "source": [
    "df_reviews['review_norm'].apply(text_preprocessing_3)"
   ]
  },
  {
   "cell_type": "code",
   "execution_count": 32,
   "metadata": {},
   "outputs": [],
   "source": [
    "train_corpus_3 = df_reviews_train['review_norm']\n",
    "test_corpus_3 = df_reviews_test['review_norm']\n",
    "stop_words = set(stopwords.words('english'))\n",
    "\n",
    "count_tf_idf_3 = TfidfVectorizer(stop_words=stop_words)\n",
    "tf_idf_3 = count_tf_idf_3.fit_transform(train_corpus_3)\n",
    "\n",
    "train_features_3 = tf_idf\n",
    "train_target_3 = df_reviews_train['pos']\n",
    "\n",
    "test_features_3 = count_tf_idf_3.transform(test_corpus_3)    "
   ]
  },
  {
   "cell_type": "code",
   "execution_count": 33,
   "metadata": {},
   "outputs": [
    {
     "name": "stdout",
     "output_type": "stream",
     "text": [
      "       pos\n",
      "0        0\n",
      "1        1\n",
      "2        1\n",
      "3        1\n",
      "4        1\n",
      "...    ...\n",
      "23530    1\n",
      "23531    0\n",
      "23532    1\n",
      "23533    1\n",
      "23534    1\n",
      "\n",
      "[23535 rows x 1 columns]\n"
     ]
    }
   ],
   "source": [
    "model_3 = LogisticRegression()\n",
    "model_3.fit(train_features_3, train_target_3)\n",
    "pred_3_test = model_3.predict(test_features_3)\n",
    "\n",
    "submission_3 = pd.DataFrame({'pos':pred_3_test})\n",
    "print(submission_3)"
   ]
  },
  {
   "cell_type": "code",
   "execution_count": 34,
   "metadata": {
    "scrolled": false
   },
   "outputs": [
    {
     "name": "stdout",
     "output_type": "stream",
     "text": [
      "           train  test\n",
      "Exactitud    NaN   NaN\n",
      "F1          0.94  0.88\n",
      "APS         0.98  0.95\n",
      "ROC AUC     0.98  0.95\n"
     ]
    },
    {
     "data": {
      "image/png": "[encoded data removed]",
      "text/plain": [
       "<Figure size 2000x600 with 3 Axes>"
      ]
     },
     "metadata": {},
     "output_type": "display_data"
    }
   ],
   "source": [
    "evaluate_model(model_3, train_features_3, train_target_3, test_features_3, test_target)"
   ]
  },
  {
   "cell_type": "markdown",
   "metadata": {},
   "source": [
    "### Modelo 4 - spaCy, TF-IDF y LGBMClassifier"
   ]
  },
  {
   "cell_type": "code",
   "execution_count": 35,
   "metadata": {},
   "outputs": [],
   "source": [
    "from lightgbm import LGBMClassifier\n",
    "from sklearn.preprocessing import OrdinalEncoder\n",
    "from sklearn.preprocessing import StandardScaler"
   ]
  },
  {
   "cell_type": "code",
   "execution_count": 36,
   "metadata": {},
   "outputs": [],
   "source": [
    "train_corpus_4 = df_reviews_train['review_norm']\n",
    "test_corpus_4 = df_reviews_test['review_norm']\n",
    "stop_words = set(stopwords.words('english'))\n",
    "\n",
    "count_tf_idf_4 = TfidfVectorizer(stop_words=stop_words)\n",
    "tf_idf_4 = count_tf_idf_3.fit_transform(train_corpus_3)\n",
    "\n",
    "train_features_4 = tf_idf\n",
    "train_target_4 = df_reviews_train['pos']\n",
    "\n",
    "test_features_4 = count_tf_idf_3.transform(test_corpus_4)    "
   ]
  },
  {
   "cell_type": "code",
   "execution_count": 37,
   "metadata": {},
   "outputs": [
    {
     "name": "stdout",
     "output_type": "stream",
     "text": [
      "       pos\n",
      "0        0\n",
      "1        1\n",
      "2        0\n",
      "3        1\n",
      "4        1\n",
      "...    ...\n",
      "23530    1\n",
      "23531    0\n",
      "23532    1\n",
      "23533    1\n",
      "23534    1\n",
      "\n",
      "[23535 rows x 1 columns]\n"
     ]
    }
   ],
   "source": [
    "# Creamos una instancia del regresor LightGBM con la métrica RMSE.\n",
    "model_4 = LGBMClassifier() \n",
    "\n",
    "# Entrenamos el modelo utilizando los datos de entrenamiento.\n",
    "model_4.fit(train_features_4, train_target_4) \n",
    "  \n",
    "# Hacer predicciones sobre los datos test.\n",
    "pred_4_test = model_4.predict(test_features_4) \n",
    "submission_4 = pd.DataFrame({'pos':pred_4_test})\n",
    "print(submission_4)"
   ]
  },
  {
   "cell_type": "code",
   "execution_count": 38,
   "metadata": {
    "scrolled": false
   },
   "outputs": [
    {
     "name": "stdout",
     "output_type": "stream",
     "text": [
      "           train  test\n",
      "Exactitud    NaN   NaN\n",
      "F1          0.92  0.86\n",
      "APS         0.97  0.93\n",
      "ROC AUC     0.97  0.94\n"
     ]
    },
    {
     "data": {
      "image/png": "[encoded data removed]",
      "text/plain": [
       "<Figure size 2000x600 with 3 Axes>"
      ]
     },
     "metadata": {},
     "output_type": "display_data"
    }
   ],
   "source": [
    "evaluate_model(model_4, train_features_4, train_target_4, test_features_4, test_target)"
   ]
  },
  {
   "cell_type": "markdown",
   "metadata": {},
   "source": [
    "###  Modelo 9 - BERT"
   ]
  },
  {
   "cell_type": "code",
   "execution_count": null,
   "metadata": {},
   "outputs": [],
   "source": [
    "import torch\n",
    "import transformers"
   ]
  },
  {
   "cell_type": "code",
   "execution_count": null,
   "metadata": {},
   "outputs": [],
   "source": [
    "tokenizer = transformers.BertTokenizer.from_pretrained('bert-base-uncased')\n",
    "config = transformers.BertConfig.from_pretrained('bert-base-uncased')\n",
    "model = transformers.BertModel.from_pretrained('bert-base-uncased')"
   ]
  },
  {
   "cell_type": "code",
   "execution_count": null,
   "metadata": {},
   "outputs": [],
   "source": [
    "def BERT_text_to_embeddings(texts, max_length=512, batch_size=100, force_device=None, disable_progress_bar=False):\n",
    "    \n",
    "    ids_list = []\n",
    "    attention_mask_list = []\n",
    "\n",
    "    # texto al id de relleno de tokens junto con sus máscaras de atención \n",
    "       \n",
    "    # <escribe tu código aquí para crear ids_list y attention_mask_list>\n",
    "    \n",
    "    if force_device is not None:\n",
    "        device = torch.device(force_device)\n",
    "    else:\n",
    "        device = torch.device('cuda' if torch.cuda.is_available() else 'cpu')\n",
    "        \n",
    "    model.to(device)\n",
    "    if not disable_progress_bar:\n",
    "        print(f'Uso del dispositivo {device}.')\n",
    "    \n",
    "    # obtener insertados en lotes\n",
    "    \n",
    "    embeddings = []\n",
    "\n",
    "    for i in tqdm(range(math.ceil(len(ids_list)/batch_size)), disable=disable_progress_bar):\n",
    "            \n",
    "        ids_batch = torch.LongTensor(ids_list[batch_size*i:batch_size*(i+1)]).to(device)\n",
    "        # <escribe tu código aquí para crear attention_mask_batch\n",
    "            \n",
    "        with torch.no_grad():            \n",
    "            model.eval()\n",
    "            batch_embeddings = model(input_ids=ids_batch, attention_mask=attention_mask_batch)   \n",
    "        embeddings.append(batch_embeddings[0][:,0,:].detach().cpu().numpy())\n",
    "        \n",
    "    return np.concatenate(embeddings)"
   ]
  },
  {
   "cell_type": "code",
   "execution_count": null,
   "metadata": {},
   "outputs": [],
   "source": [
    "# ¡Atención! La ejecución de BERT para miles de textos puede llevar mucho tiempo en la CPU, al menos varias horas\n",
    "train_features_9 = BERT_text_to_embeddings(df_reviews_train['review_norm'], force_device='cuda')"
   ]
  },
  {
   "cell_type": "code",
   "execution_count": null,
   "metadata": {},
   "outputs": [],
   "source": [
    "print(df_reviews_train['review_norm'].shape)\n",
    "print(train_features_9.shape)\n",
    "print(train_target.shape)"
   ]
  },
  {
   "cell_type": "code",
   "execution_count": null,
   "metadata": {},
   "outputs": [],
   "source": [
    "# si ya obtuviste los insertados, te recomendamos guardarlos para tenerlos listos si\n",
    "np.savez_compressed('features_9.npz', train_features_9=train_features_9, test_features_9=test_features_9)\n",
    "\n",
    "# y cargar...\n",
    "with np.load('features_9.npz') as data:\n",
    "    \n",
    "    train_features_9 = data['train_features_9']\n",
    "    test_features_9 = data['test_features_9']"
   ]
  },
  {
   "cell_type": "markdown",
   "metadata": {},
   "source": [
    "## Mis reseñas"
   ]
  },
  {
   "cell_type": "code",
   "execution_count": 39,
   "metadata": {
    "scrolled": true
   },
   "outputs": [
    {
     "data": {
      "text/html": [
       "<div>\n",
       "<style scoped>\n",
       "    .dataframe tbody tr th:only-of-type {\n",
       "        vertical-align: middle;\n",
       "    }\n",
       "\n",
       "    .dataframe tbody tr th {\n",
       "        vertical-align: top;\n",
       "    }\n",
       "\n",
       "    .dataframe thead th {\n",
       "        text-align: right;\n",
       "    }\n",
       "</style>\n",
       "<table border=\"1\" class=\"dataframe\">\n",
       "  <thead>\n",
       "    <tr style=\"text-align: right;\">\n",
       "      <th></th>\n",
       "      <th>review</th>\n",
       "      <th>review_norm</th>\n",
       "    </tr>\n",
       "  </thead>\n",
       "  <tbody>\n",
       "    <tr>\n",
       "      <th>0</th>\n",
       "      <td>I did not simply like it, not my kind of movie.</td>\n",
       "      <td>I did not simply like it not my kind of movie</td>\n",
       "    </tr>\n",
       "    <tr>\n",
       "      <th>1</th>\n",
       "      <td>Well, I was bored and felt asleep in the middl...</td>\n",
       "      <td>Well I was bored and felt asleep in the middle...</td>\n",
       "    </tr>\n",
       "    <tr>\n",
       "      <th>2</th>\n",
       "      <td>I was really fascinated with the movie</td>\n",
       "      <td>I was really fascinated with the movie</td>\n",
       "    </tr>\n",
       "    <tr>\n",
       "      <th>3</th>\n",
       "      <td>Even the actors looked really old and disinter...</td>\n",
       "      <td>Even the actors looked really old and disinter...</td>\n",
       "    </tr>\n",
       "    <tr>\n",
       "      <th>4</th>\n",
       "      <td>I didn't expect the reboot to be so good! Writ...</td>\n",
       "      <td>I didn't expect the reboot to be so good Write...</td>\n",
       "    </tr>\n",
       "    <tr>\n",
       "      <th>5</th>\n",
       "      <td>The movie had its upsides and downsides, but I...</td>\n",
       "      <td>The movie had its upsides and downsides but I ...</td>\n",
       "    </tr>\n",
       "    <tr>\n",
       "      <th>6</th>\n",
       "      <td>What a rotten attempt at a comedy. Not a singl...</td>\n",
       "      <td>What a rotten attempt at a comedy Not a single...</td>\n",
       "    </tr>\n",
       "    <tr>\n",
       "      <th>7</th>\n",
       "      <td>Launching on Netflix was a brave move &amp; I real...</td>\n",
       "      <td>Launching on Netflix was a brave move I really...</td>\n",
       "    </tr>\n",
       "  </tbody>\n",
       "</table>\n",
       "</div>"
      ],
      "text/plain": [
       "                                              review  \\\n",
       "0    I did not simply like it, not my kind of movie.   \n",
       "1  Well, I was bored and felt asleep in the middl...   \n",
       "2             I was really fascinated with the movie   \n",
       "3  Even the actors looked really old and disinter...   \n",
       "4  I didn't expect the reboot to be so good! Writ...   \n",
       "5  The movie had its upsides and downsides, but I...   \n",
       "6  What a rotten attempt at a comedy. Not a singl...   \n",
       "7  Launching on Netflix was a brave move & I real...   \n",
       "\n",
       "                                         review_norm  \n",
       "0      I did not simply like it not my kind of movie  \n",
       "1  Well I was bored and felt asleep in the middle...  \n",
       "2             I was really fascinated with the movie  \n",
       "3  Even the actors looked really old and disinter...  \n",
       "4  I didn't expect the reboot to be so good Write...  \n",
       "5  The movie had its upsides and downsides but I ...  \n",
       "6  What a rotten attempt at a comedy Not a single...  \n",
       "7  Launching on Netflix was a brave move I really...  "
      ]
     },
     "execution_count": 39,
     "metadata": {},
     "output_type": "execute_result"
    }
   ],
   "source": [
    "# puedes eliminar por completo estas reseñas y probar tus modelos en tus propias reseñas; las que se muestran a continuación son solo ejemplos\n",
    "\n",
    "my_reviews = pd.DataFrame([\n",
    "    'I did not simply like it, not my kind of movie.',\n",
    "    'Well, I was bored and felt asleep in the middle of the movie.',\n",
    "    'I was really fascinated with the movie',    \n",
    "    'Even the actors looked really old and disinterested, and they got paid to be in the movie. What a soulless cash grab.',\n",
    "    'I didn\\'t expect the reboot to be so good! Writers really cared about the source material',\n",
    "    'The movie had its upsides and downsides, but I feel like overall it\\'s a decent flick. I could see myself going to see it again.',\n",
    "    'What a rotten attempt at a comedy. Not a single joke lands, everyone acts annoying and loud, even kids won\\'t like this!',\n",
    "    'Launching on Netflix was a brave move & I really appreciate being able to binge on episode after episode, of this exciting intelligent new drama.'\n",
    "], columns=['review'])\n",
    "\n",
    "\"\"\"\n",
    "my_reviews = pd.DataFrame([\n",
    "    'Simplemente no me gustó, no es mi tipo de película.',\n",
    "    'Bueno, estaba aburrido y me quedé dormido a media película.',\n",
    "    'Estaba realmente fascinada con la película',    \n",
    "    'Hasta los actores parecían muy viejos y desinteresados, y les pagaron por estar en la película. Qué robo tan desalmado.',\n",
    "    '¡No esperaba que el relanzamiento fuera tan bueno! Los escritores realmente se preocuparon por el material original',\n",
    "    'La película tuvo sus altibajos, pero siento que, en general, es una película decente. Sí la volvería a ver',\n",
    "    'Qué pésimo intento de comedia. Ni una sola broma tiene sentido, todos actúan de forma irritante y ruidosa, ¡ni siquiera a los niños les gustará esto!',\n",
    "    'Fue muy valiente el lanzamiento en Netflix y realmente aprecio poder seguir viendo episodio tras episodio de este nuevo drama tan emocionante e inteligente.'\n",
    "], columns=['review'])\n",
    "\"\"\"\n",
    "\n",
    "my_reviews['review_norm'] = my_reviews['review'].apply(clear_text)\n",
    "\n",
    "my_reviews['review_norm'].apply(text_preprocessing_3)\n",
    "\n",
    "my_reviews"
   ]
  },
  {
   "cell_type": "markdown",
   "metadata": {},
   "source": [
    "### Modelo 1"
   ]
  },
  {
   "cell_type": "code",
   "execution_count": 43,
   "metadata": {},
   "outputs": [
    {
     "name": "stdout",
     "output_type": "stream",
     "text": [
      "0.14:  I did not simply like it not my kind of movie\n",
      "0.16:  Well I was bored and felt asleep in the middle of the movie\n",
      "0.53:  I was really fascinated with the movie\n",
      "0.11:  Even the actors looked really old and disinterested and they got paid to be in the movie What a soul\n",
      "0.31:  I didn't expect the reboot to be so good Writers really cared about the source material\n",
      "0.47:  The movie had its upsides and downsides but I feel like overall it's a decent flick I could see myse\n",
      "0.04:  What a rotten attempt at a comedy Not a single joke lands everyone acts annoying and loud even kids \n",
      "0.82:  Launching on Netflix was a brave move I really appreciate being able to binge on episode after episo\n"
     ]
    }
   ],
   "source": [
    "texts = my_reviews['review_norm']\n",
    "\n",
    "my_reviews_pred_prob = model_1.predict_proba(count_tf_idf.transform(texts))[:, 1]\n",
    "\n",
    "for i, review in enumerate(texts.str.slice(0, 100)):\n",
    "    print(f'{my_reviews_pred_prob[i]:.2f}:  {review}')"
   ]
  },
  {
   "cell_type": "markdown",
   "metadata": {},
   "source": [
    "### Modelo 3"
   ]
  },
  {
   "cell_type": "code",
   "execution_count": 44,
   "metadata": {},
   "outputs": [
    {
     "name": "stdout",
     "output_type": "stream",
     "text": [
      "0.14:  I did not simply like it not my kind of movie\n",
      "0.27:  Well I was bored and felt asleep in the middle of the movie\n",
      "0.53:  I was really fascinated with the movie\n",
      "0.14:  Even the actors looked really old and disinterested and they got paid to be in the movie What a soul\n",
      "0.28:  I didn't expect the reboot to be so good Writers really cared about the source material\n",
      "0.55:  The movie had its upsides and downsides but I feel like overall it's a decent flick I could see myse\n",
      "0.03:  What a rotten attempt at a comedy Not a single joke lands everyone acts annoying and loud even kids \n",
      "0.82:  Launching on Netflix was a brave move I really appreciate being able to binge on episode after episo\n"
     ]
    }
   ],
   "source": [
    "texts = my_reviews['review_norm']\n",
    "\n",
    "my_reviews_pred_prob = model_3.predict_proba(count_tf_idf.transform(texts.apply(lambda x: text_preprocessing_3(x))))[:, 1]\n",
    "\n",
    "for i, review in enumerate(texts.str.slice(0, 100)):\n",
    "    print(f'{my_reviews_pred_prob[i]:.2f}:  {review}')"
   ]
  },
  {
   "cell_type": "markdown",
   "metadata": {},
   "source": [
    "### Modelo 4"
   ]
  },
  {
   "cell_type": "code",
   "execution_count": 46,
   "metadata": {},
   "outputs": [
    {
     "name": "stdout",
     "output_type": "stream",
     "text": [
      "0.56:  I did not simply like it not my kind of movie\n",
      "0.56:  Well I was bored and felt asleep in the middle of the movie\n",
      "0.60:  I was really fascinated with the movie\n",
      "0.49:  Even the actors looked really old and disinterested and they got paid to be in the movie What a soul\n",
      "0.58:  I didn't expect the reboot to be so good Writers really cared about the source material\n",
      "0.59:  The movie had its upsides and downsides but I feel like overall it's a decent flick I could see myse\n",
      "0.14:  What a rotten attempt at a comedy Not a single joke lands everyone acts annoying and loud even kids \n",
      "0.64:  Launching on Netflix was a brave move I really appreciate being able to binge on episode after episo\n"
     ]
    }
   ],
   "source": [
    "texts = my_reviews['review_norm']\n",
    "\n",
    "tfidf_vectorizer_4 = count_tf_idf\n",
    "my_reviews_pred_prob = model_4.predict_proba(tfidf_vectorizer_4.transform(texts.apply(lambda x: text_preprocessing_3(x))))[:, 1]\n",
    "\n",
    "for i, review in enumerate(texts.str.slice(0, 100)):\n",
    "    print(f'{my_reviews_pred_prob[i]:.2f}:  {review}')"
   ]
  },
  {
   "cell_type": "markdown",
   "metadata": {},
   "source": [
    "### Modelo 9"
   ]
  },
  {
   "cell_type": "code",
   "execution_count": null,
   "metadata": {},
   "outputs": [],
   "source": [
    "texts = my_reviews['review_norm']\n",
    "\n",
    "my_reviews_features_9 = BERT_text_to_embeddings(texts, disable_progress_bar=True)\n",
    "\n",
    "my_reviews_pred_prob = model_9.predict_proba(my_reviews_features_9)[:, 1]\n",
    "\n",
    "for i, review in enumerate(texts.str.slice(0, 100)):\n",
    "    print(f'{my_reviews_pred_prob[i]:.2f}:  {review}')"
   ]
  },
  {
   "cell_type": "markdown",
   "metadata": {},
   "source": [
    "## Conclusiones"
   ]
  },
  {
   "cell_type": "markdown",
   "metadata": {},
   "source": [
    "Podemos concluir que el tokenizado y los conjuntos corpus presentan un gran retraso a la hora de entrenar modelos, esto pueden producir un gran retraso pero el limpiar, tokenizar y lematizar nuestros conjuntos de entrenamiento y testeo permiten obtener metricas bastantes altas en lo que corresponde a ROC"
   ]
  }
 ],
 "metadata": {
  "ExecuteTimeLog": [
   {
    "duration": 4879,
    "start_time": "2024-06-23T05:00:49.876Z"
   },
   {
    "duration": 11,
    "start_time": "2024-06-23T05:00:54.759Z"
   },
   {
    "duration": 5,
    "start_time": "2024-06-23T05:00:54.773Z"
   },
   {
    "duration": 1055,
    "start_time": "2024-06-23T05:00:54.780Z"
   },
   {
    "duration": 5147,
    "start_time": "2024-06-23T05:00:55.840Z"
   },
   {
    "duration": 1039,
    "start_time": "2024-06-23T05:01:00.991Z"
   },
   {
    "duration": 9,
    "start_time": "2024-06-23T05:01:02.033Z"
   },
   {
    "duration": 557,
    "start_time": "2024-06-23T05:01:02.046Z"
   },
   {
    "duration": 6504,
    "start_time": "2024-06-23T05:01:02.607Z"
   },
   {
    "duration": 351,
    "start_time": "2024-06-23T05:01:09.114Z"
   },
   {
    "duration": 9,
    "start_time": "2024-06-23T05:01:09.468Z"
   },
   {
    "duration": 54,
    "start_time": "2024-06-23T05:01:09.481Z"
   },
   {
    "duration": 8,
    "start_time": "2024-06-23T05:01:09.538Z"
   },
   {
    "duration": 256,
    "start_time": "2024-06-23T05:01:09.553Z"
   },
   {
    "duration": 463,
    "start_time": "2024-06-23T05:01:09.815Z"
   },
   {
    "duration": 0,
    "start_time": "2024-06-23T05:01:10.281Z"
   },
   {
    "duration": 0,
    "start_time": "2024-06-23T05:01:10.285Z"
   },
   {
    "duration": 0,
    "start_time": "2024-06-23T05:01:10.287Z"
   },
   {
    "duration": 0,
    "start_time": "2024-06-23T05:01:10.305Z"
   },
   {
    "duration": 0,
    "start_time": "2024-06-23T05:01:10.308Z"
   },
   {
    "duration": 0,
    "start_time": "2024-06-23T05:01:10.310Z"
   },
   {
    "duration": 0,
    "start_time": "2024-06-23T05:01:10.312Z"
   },
   {
    "duration": 0,
    "start_time": "2024-06-23T05:01:10.314Z"
   },
   {
    "duration": 0,
    "start_time": "2024-06-23T05:01:10.317Z"
   },
   {
    "duration": 0,
    "start_time": "2024-06-23T05:01:10.319Z"
   },
   {
    "duration": 0,
    "start_time": "2024-06-23T05:01:10.322Z"
   },
   {
    "duration": 0,
    "start_time": "2024-06-23T05:01:10.325Z"
   },
   {
    "duration": 0,
    "start_time": "2024-06-23T05:01:10.327Z"
   },
   {
    "duration": 1,
    "start_time": "2024-06-23T05:01:10.329Z"
   },
   {
    "duration": 44,
    "start_time": "2024-06-23T05:05:24.160Z"
   },
   {
    "duration": 73,
    "start_time": "2024-06-23T05:05:26.289Z"
   },
   {
    "duration": 25,
    "start_time": "2024-06-23T05:05:28.666Z"
   },
   {
    "duration": 25,
    "start_time": "2024-06-23T05:07:53.642Z"
   },
   {
    "duration": 39,
    "start_time": "2024-06-23T05:08:00.090Z"
   },
   {
    "duration": 20,
    "start_time": "2024-06-23T05:08:24.393Z"
   },
   {
    "duration": 62,
    "start_time": "2024-06-23T05:10:01.130Z"
   },
   {
    "duration": 318,
    "start_time": "2024-06-23T06:04:13.462Z"
   },
   {
    "duration": 949,
    "start_time": "2024-06-23T06:04:20.698Z"
   },
   {
    "duration": 7,
    "start_time": "2024-06-23T06:04:24.960Z"
   },
   {
    "duration": 82,
    "start_time": "2024-06-23T06:04:25.853Z"
   },
   {
    "duration": 4887,
    "start_time": "2024-06-23T06:04:33.433Z"
   },
   {
    "duration": 14,
    "start_time": "2024-06-23T06:04:38.324Z"
   },
   {
    "duration": 6,
    "start_time": "2024-06-23T06:04:38.341Z"
   },
   {
    "duration": 1016,
    "start_time": "2024-06-23T06:04:38.351Z"
   },
   {
    "duration": 47,
    "start_time": "2024-06-23T06:04:39.374Z"
   },
   {
    "duration": 69,
    "start_time": "2024-06-23T06:04:39.424Z"
   },
   {
    "duration": 24,
    "start_time": "2024-06-23T06:04:39.511Z"
   },
   {
    "duration": 5271,
    "start_time": "2024-06-23T06:04:39.538Z"
   },
   {
    "duration": 1035,
    "start_time": "2024-06-23T06:04:44.812Z"
   },
   {
    "duration": 9,
    "start_time": "2024-06-23T06:04:45.851Z"
   },
   {
    "duration": 554,
    "start_time": "2024-06-23T06:04:45.863Z"
   },
   {
    "duration": 6570,
    "start_time": "2024-06-23T06:04:46.420Z"
   },
   {
    "duration": 359,
    "start_time": "2024-06-23T06:04:52.995Z"
   },
   {
    "duration": 1342,
    "start_time": "2024-06-23T06:04:53.363Z"
   },
   {
    "duration": 0,
    "start_time": "2024-06-23T06:04:54.708Z"
   },
   {
    "duration": 0,
    "start_time": "2024-06-23T06:04:54.714Z"
   },
   {
    "duration": 0,
    "start_time": "2024-06-23T06:04:54.717Z"
   },
   {
    "duration": 0,
    "start_time": "2024-06-23T06:04:54.719Z"
   },
   {
    "duration": 0,
    "start_time": "2024-06-23T06:04:54.722Z"
   },
   {
    "duration": 0,
    "start_time": "2024-06-23T06:04:54.724Z"
   },
   {
    "duration": 0,
    "start_time": "2024-06-23T06:04:54.727Z"
   },
   {
    "duration": 0,
    "start_time": "2024-06-23T06:04:54.729Z"
   },
   {
    "duration": 0,
    "start_time": "2024-06-23T06:04:54.732Z"
   },
   {
    "duration": 0,
    "start_time": "2024-06-23T06:04:54.735Z"
   },
   {
    "duration": 0,
    "start_time": "2024-06-23T06:04:54.737Z"
   },
   {
    "duration": 0,
    "start_time": "2024-06-23T06:04:54.740Z"
   },
   {
    "duration": 0,
    "start_time": "2024-06-23T06:04:54.741Z"
   },
   {
    "duration": 0,
    "start_time": "2024-06-23T06:04:54.743Z"
   },
   {
    "duration": 0,
    "start_time": "2024-06-23T06:04:54.748Z"
   },
   {
    "duration": 0,
    "start_time": "2024-06-23T06:04:54.751Z"
   },
   {
    "duration": 0,
    "start_time": "2024-06-23T06:04:54.752Z"
   },
   {
    "duration": 0,
    "start_time": "2024-06-23T06:04:54.754Z"
   },
   {
    "duration": 0,
    "start_time": "2024-06-23T06:04:54.813Z"
   },
   {
    "duration": 0,
    "start_time": "2024-06-23T06:04:54.815Z"
   },
   {
    "duration": 0,
    "start_time": "2024-06-23T06:04:54.817Z"
   },
   {
    "duration": 31,
    "start_time": "2024-06-23T06:05:13.719Z"
   },
   {
    "duration": 6,
    "start_time": "2024-06-23T06:05:16.181Z"
   },
   {
    "duration": 4,
    "start_time": "2024-06-23T06:05:17.031Z"
   },
   {
    "duration": 12,
    "start_time": "2024-06-23T06:05:17.778Z"
   },
   {
    "duration": 7,
    "start_time": "2024-06-23T06:05:19.030Z"
   },
   {
    "duration": 25,
    "start_time": "2024-06-23T06:06:10.465Z"
   },
   {
    "duration": 8,
    "start_time": "2024-06-23T06:06:17.609Z"
   },
   {
    "duration": 1356,
    "start_time": "2024-06-23T06:06:26.709Z"
   },
   {
    "duration": 13,
    "start_time": "2024-06-23T06:06:28.068Z"
   },
   {
    "duration": 28,
    "start_time": "2024-06-23T06:06:28.085Z"
   },
   {
    "duration": 1017,
    "start_time": "2024-06-23T06:06:28.117Z"
   },
   {
    "duration": 41,
    "start_time": "2024-06-23T06:06:29.140Z"
   },
   {
    "duration": 93,
    "start_time": "2024-06-23T06:06:29.184Z"
   },
   {
    "duration": 45,
    "start_time": "2024-06-23T06:06:29.280Z"
   },
   {
    "duration": 5318,
    "start_time": "2024-06-23T06:06:29.328Z"
   },
   {
    "duration": 1067,
    "start_time": "2024-06-23T06:06:34.649Z"
   },
   {
    "duration": 9,
    "start_time": "2024-06-23T06:06:35.720Z"
   },
   {
    "duration": 590,
    "start_time": "2024-06-23T06:06:35.733Z"
   },
   {
    "duration": 6517,
    "start_time": "2024-06-23T06:06:36.326Z"
   },
   {
    "duration": 260,
    "start_time": "2024-06-23T06:06:42.846Z"
   },
   {
    "duration": 1323,
    "start_time": "2024-06-23T06:06:43.112Z"
   },
   {
    "duration": 0,
    "start_time": "2024-06-23T06:06:44.438Z"
   },
   {
    "duration": 0,
    "start_time": "2024-06-23T06:06:44.440Z"
   },
   {
    "duration": 0,
    "start_time": "2024-06-23T06:06:44.442Z"
   },
   {
    "duration": 0,
    "start_time": "2024-06-23T06:06:44.445Z"
   },
   {
    "duration": 1,
    "start_time": "2024-06-23T06:06:44.447Z"
   },
   {
    "duration": 0,
    "start_time": "2024-06-23T06:06:44.450Z"
   },
   {
    "duration": 0,
    "start_time": "2024-06-23T06:06:44.453Z"
   },
   {
    "duration": 0,
    "start_time": "2024-06-23T06:06:44.455Z"
   },
   {
    "duration": 0,
    "start_time": "2024-06-23T06:06:44.460Z"
   },
   {
    "duration": 0,
    "start_time": "2024-06-23T06:06:44.462Z"
   },
   {
    "duration": 0,
    "start_time": "2024-06-23T06:06:44.464Z"
   },
   {
    "duration": 0,
    "start_time": "2024-06-23T06:06:44.514Z"
   },
   {
    "duration": 0,
    "start_time": "2024-06-23T06:06:44.517Z"
   },
   {
    "duration": 0,
    "start_time": "2024-06-23T06:06:44.519Z"
   },
   {
    "duration": 0,
    "start_time": "2024-06-23T06:06:44.521Z"
   },
   {
    "duration": 0,
    "start_time": "2024-06-23T06:06:44.524Z"
   },
   {
    "duration": 0,
    "start_time": "2024-06-23T06:06:44.526Z"
   },
   {
    "duration": 0,
    "start_time": "2024-06-23T06:06:44.528Z"
   },
   {
    "duration": 0,
    "start_time": "2024-06-23T06:06:44.530Z"
   },
   {
    "duration": 0,
    "start_time": "2024-06-23T06:06:44.533Z"
   },
   {
    "duration": 0,
    "start_time": "2024-06-23T06:06:44.535Z"
   },
   {
    "duration": 0,
    "start_time": "2024-06-23T06:06:44.537Z"
   },
   {
    "duration": 1257,
    "start_time": "2024-06-23T06:10:00.020Z"
   },
   {
    "duration": 11,
    "start_time": "2024-06-23T06:10:01.280Z"
   },
   {
    "duration": 21,
    "start_time": "2024-06-23T06:10:01.294Z"
   },
   {
    "duration": 974,
    "start_time": "2024-06-23T06:10:01.319Z"
   },
   {
    "duration": 43,
    "start_time": "2024-06-23T06:10:02.295Z"
   },
   {
    "duration": 86,
    "start_time": "2024-06-23T06:10:02.341Z"
   },
   {
    "duration": 27,
    "start_time": "2024-06-23T06:10:02.431Z"
   },
   {
    "duration": 5072,
    "start_time": "2024-06-23T06:10:02.461Z"
   },
   {
    "duration": 1083,
    "start_time": "2024-06-23T06:10:07.536Z"
   },
   {
    "duration": 8,
    "start_time": "2024-06-23T06:10:08.625Z"
   },
   {
    "duration": 597,
    "start_time": "2024-06-23T06:10:08.637Z"
   },
   {
    "duration": 6613,
    "start_time": "2024-06-23T06:10:09.237Z"
   },
   {
    "duration": 243,
    "start_time": "2024-06-23T06:10:15.854Z"
   },
   {
    "duration": 12,
    "start_time": "2024-06-23T06:10:16.100Z"
   },
   {
    "duration": 1304,
    "start_time": "2024-06-23T06:10:16.117Z"
   },
   {
    "duration": 0,
    "start_time": "2024-06-23T06:10:17.425Z"
   },
   {
    "duration": 0,
    "start_time": "2024-06-23T06:10:17.427Z"
   },
   {
    "duration": 0,
    "start_time": "2024-06-23T06:10:17.429Z"
   },
   {
    "duration": 0,
    "start_time": "2024-06-23T06:10:17.431Z"
   },
   {
    "duration": 0,
    "start_time": "2024-06-23T06:10:17.433Z"
   },
   {
    "duration": 0,
    "start_time": "2024-06-23T06:10:17.435Z"
   },
   {
    "duration": 0,
    "start_time": "2024-06-23T06:10:17.437Z"
   },
   {
    "duration": 0,
    "start_time": "2024-06-23T06:10:17.439Z"
   },
   {
    "duration": 0,
    "start_time": "2024-06-23T06:10:17.441Z"
   },
   {
    "duration": 0,
    "start_time": "2024-06-23T06:10:17.443Z"
   },
   {
    "duration": 0,
    "start_time": "2024-06-23T06:10:17.445Z"
   },
   {
    "duration": 0,
    "start_time": "2024-06-23T06:10:17.447Z"
   },
   {
    "duration": 0,
    "start_time": "2024-06-23T06:10:17.450Z"
   },
   {
    "duration": 0,
    "start_time": "2024-06-23T06:10:17.452Z"
   },
   {
    "duration": 0,
    "start_time": "2024-06-23T06:10:17.455Z"
   },
   {
    "duration": 0,
    "start_time": "2024-06-23T06:10:17.456Z"
   },
   {
    "duration": 0,
    "start_time": "2024-06-23T06:10:17.459Z"
   },
   {
    "duration": 0,
    "start_time": "2024-06-23T06:10:17.513Z"
   },
   {
    "duration": 0,
    "start_time": "2024-06-23T06:10:17.516Z"
   },
   {
    "duration": 0,
    "start_time": "2024-06-23T06:10:17.518Z"
   },
   {
    "duration": 0,
    "start_time": "2024-06-23T06:10:17.521Z"
   },
   {
    "duration": 0,
    "start_time": "2024-06-23T06:10:17.523Z"
   },
   {
    "duration": 83,
    "start_time": "2024-06-23T06:10:53.966Z"
   },
   {
    "duration": 42,
    "start_time": "2024-06-23T06:11:20.926Z"
   },
   {
    "duration": 37,
    "start_time": "2024-06-23T06:11:42.911Z"
   },
   {
    "duration": 1307,
    "start_time": "2024-06-23T06:12:56.536Z"
   },
   {
    "duration": 12,
    "start_time": "2024-06-23T06:12:57.847Z"
   },
   {
    "duration": 5,
    "start_time": "2024-06-23T06:12:57.862Z"
   },
   {
    "duration": 965,
    "start_time": "2024-06-23T06:12:57.870Z"
   },
   {
    "duration": 47,
    "start_time": "2024-06-23T06:12:58.842Z"
   },
   {
    "duration": 83,
    "start_time": "2024-06-23T06:12:58.892Z"
   },
   {
    "duration": 37,
    "start_time": "2024-06-23T06:12:58.978Z"
   },
   {
    "duration": 5195,
    "start_time": "2024-06-23T06:12:59.018Z"
   },
   {
    "duration": 1003,
    "start_time": "2024-06-23T06:13:04.216Z"
   },
   {
    "duration": 8,
    "start_time": "2024-06-23T06:13:05.222Z"
   },
   {
    "duration": 643,
    "start_time": "2024-06-23T06:13:05.233Z"
   },
   {
    "duration": 6624,
    "start_time": "2024-06-23T06:13:05.879Z"
   },
   {
    "duration": 231,
    "start_time": "2024-06-23T06:13:12.513Z"
   },
   {
    "duration": 5,
    "start_time": "2024-06-23T06:13:12.752Z"
   },
   {
    "duration": 523,
    "start_time": "2024-06-23T06:13:12.762Z"
   },
   {
    "duration": 0,
    "start_time": "2024-06-23T06:13:13.288Z"
   },
   {
    "duration": 0,
    "start_time": "2024-06-23T06:13:13.290Z"
   },
   {
    "duration": 0,
    "start_time": "2024-06-23T06:13:13.292Z"
   },
   {
    "duration": 0,
    "start_time": "2024-06-23T06:13:13.294Z"
   },
   {
    "duration": 0,
    "start_time": "2024-06-23T06:13:13.296Z"
   },
   {
    "duration": 0,
    "start_time": "2024-06-23T06:13:13.313Z"
   },
   {
    "duration": 0,
    "start_time": "2024-06-23T06:13:13.315Z"
   },
   {
    "duration": 0,
    "start_time": "2024-06-23T06:13:13.317Z"
   },
   {
    "duration": 0,
    "start_time": "2024-06-23T06:13:13.319Z"
   },
   {
    "duration": 0,
    "start_time": "2024-06-23T06:13:13.321Z"
   },
   {
    "duration": 0,
    "start_time": "2024-06-23T06:13:13.323Z"
   },
   {
    "duration": 0,
    "start_time": "2024-06-23T06:13:13.326Z"
   },
   {
    "duration": 0,
    "start_time": "2024-06-23T06:13:13.328Z"
   },
   {
    "duration": 0,
    "start_time": "2024-06-23T06:13:13.330Z"
   },
   {
    "duration": 1,
    "start_time": "2024-06-23T06:13:13.331Z"
   },
   {
    "duration": 0,
    "start_time": "2024-06-23T06:13:13.333Z"
   },
   {
    "duration": 0,
    "start_time": "2024-06-23T06:13:13.336Z"
   },
   {
    "duration": 0,
    "start_time": "2024-06-23T06:13:13.338Z"
   },
   {
    "duration": 0,
    "start_time": "2024-06-23T06:13:13.341Z"
   },
   {
    "duration": 0,
    "start_time": "2024-06-23T06:13:13.343Z"
   },
   {
    "duration": 0,
    "start_time": "2024-06-23T06:13:13.345Z"
   },
   {
    "duration": 0,
    "start_time": "2024-06-23T06:13:13.347Z"
   },
   {
    "duration": 0,
    "start_time": "2024-06-23T06:13:13.349Z"
   },
   {
    "duration": 44,
    "start_time": "2024-06-23T06:16:24.053Z"
   },
   {
    "duration": 1979,
    "start_time": "2024-06-23T06:17:45.978Z"
   },
   {
    "duration": 1933,
    "start_time": "2024-06-23T06:17:54.710Z"
   },
   {
    "duration": 2108,
    "start_time": "2024-06-23T06:18:56.117Z"
   },
   {
    "duration": 35,
    "start_time": "2024-06-23T06:19:42.368Z"
   },
   {
    "duration": 958,
    "start_time": "2024-06-23T06:19:53.028Z"
   },
   {
    "duration": 787,
    "start_time": "2024-06-23T06:20:47.286Z"
   },
   {
    "duration": 79,
    "start_time": "2024-06-23T06:22:41.015Z"
   },
   {
    "duration": 47363,
    "start_time": "2024-06-23T06:22:58.517Z"
   },
   {
    "duration": 81,
    "start_time": "2024-06-23T06:25:14.290Z"
   },
   {
    "duration": 2203,
    "start_time": "2024-06-23T06:26:40.175Z"
   },
   {
    "duration": 2429,
    "start_time": "2024-06-23T06:27:25.839Z"
   },
   {
    "duration": 131,
    "start_time": "2024-06-23T06:27:28.281Z"
   },
   {
    "duration": 1225,
    "start_time": "2024-06-23T06:28:31.567Z"
   },
   {
    "duration": 19,
    "start_time": "2024-06-23T06:28:32.796Z"
   },
   {
    "duration": 4,
    "start_time": "2024-06-23T06:28:32.818Z"
   },
   {
    "duration": 1027,
    "start_time": "2024-06-23T06:28:32.826Z"
   },
   {
    "duration": 40,
    "start_time": "2024-06-23T06:28:33.856Z"
   },
   {
    "duration": 74,
    "start_time": "2024-06-23T06:28:33.912Z"
   },
   {
    "duration": 43,
    "start_time": "2024-06-23T06:28:33.989Z"
   },
   {
    "duration": 5097,
    "start_time": "2024-06-23T06:28:34.036Z"
   },
   {
    "duration": 978,
    "start_time": "2024-06-23T06:28:39.136Z"
   },
   {
    "duration": 7,
    "start_time": "2024-06-23T06:28:40.122Z"
   },
   {
    "duration": 644,
    "start_time": "2024-06-23T06:28:40.132Z"
   },
   {
    "duration": 6587,
    "start_time": "2024-06-23T06:28:40.779Z"
   },
   {
    "duration": 240,
    "start_time": "2024-06-23T06:28:47.369Z"
   },
   {
    "duration": 6,
    "start_time": "2024-06-23T06:28:47.612Z"
   },
   {
    "duration": 455,
    "start_time": "2024-06-23T06:28:47.621Z"
   },
   {
    "duration": 0,
    "start_time": "2024-06-23T06:28:48.080Z"
   },
   {
    "duration": 0,
    "start_time": "2024-06-23T06:28:48.082Z"
   },
   {
    "duration": 0,
    "start_time": "2024-06-23T06:28:48.083Z"
   },
   {
    "duration": 0,
    "start_time": "2024-06-23T06:28:48.085Z"
   },
   {
    "duration": 0,
    "start_time": "2024-06-23T06:28:48.087Z"
   },
   {
    "duration": 0,
    "start_time": "2024-06-23T06:28:48.089Z"
   },
   {
    "duration": 0,
    "start_time": "2024-06-23T06:28:48.091Z"
   },
   {
    "duration": 0,
    "start_time": "2024-06-23T06:28:48.116Z"
   },
   {
    "duration": 0,
    "start_time": "2024-06-23T06:28:48.118Z"
   },
   {
    "duration": 0,
    "start_time": "2024-06-23T06:28:48.121Z"
   },
   {
    "duration": 0,
    "start_time": "2024-06-23T06:28:48.123Z"
   },
   {
    "duration": 0,
    "start_time": "2024-06-23T06:28:48.126Z"
   },
   {
    "duration": 0,
    "start_time": "2024-06-23T06:28:48.128Z"
   },
   {
    "duration": 0,
    "start_time": "2024-06-23T06:28:48.131Z"
   },
   {
    "duration": 0,
    "start_time": "2024-06-23T06:28:48.134Z"
   },
   {
    "duration": 0,
    "start_time": "2024-06-23T06:28:48.136Z"
   },
   {
    "duration": 0,
    "start_time": "2024-06-23T06:28:48.139Z"
   },
   {
    "duration": 0,
    "start_time": "2024-06-23T06:28:48.142Z"
   },
   {
    "duration": 0,
    "start_time": "2024-06-23T06:28:48.144Z"
   },
   {
    "duration": 0,
    "start_time": "2024-06-23T06:28:48.147Z"
   },
   {
    "duration": 0,
    "start_time": "2024-06-23T06:28:48.150Z"
   },
   {
    "duration": 0,
    "start_time": "2024-06-23T06:28:48.212Z"
   },
   {
    "duration": 0,
    "start_time": "2024-06-23T06:28:48.214Z"
   },
   {
    "duration": 1298,
    "start_time": "2024-06-23T06:30:19.160Z"
   },
   {
    "duration": 12,
    "start_time": "2024-06-23T06:30:20.462Z"
   },
   {
    "duration": 4,
    "start_time": "2024-06-23T06:30:20.477Z"
   },
   {
    "duration": 978,
    "start_time": "2024-06-23T06:30:20.484Z"
   },
   {
    "duration": 49,
    "start_time": "2024-06-23T06:30:21.466Z"
   },
   {
    "duration": 76,
    "start_time": "2024-06-23T06:30:21.519Z"
   },
   {
    "duration": 23,
    "start_time": "2024-06-23T06:30:21.614Z"
   },
   {
    "duration": 5577,
    "start_time": "2024-06-23T06:30:21.640Z"
   },
   {
    "duration": 1121,
    "start_time": "2024-06-23T06:30:27.220Z"
   },
   {
    "duration": 10,
    "start_time": "2024-06-23T06:30:28.345Z"
   },
   {
    "duration": 663,
    "start_time": "2024-06-23T06:30:28.359Z"
   },
   {
    "duration": 6878,
    "start_time": "2024-06-23T06:30:29.026Z"
   },
   {
    "duration": 247,
    "start_time": "2024-06-23T06:30:35.914Z"
   },
   {
    "duration": 3875,
    "start_time": "2024-06-23T06:30:36.168Z"
   },
   {
    "duration": 1213,
    "start_time": "2024-06-23T06:33:20.269Z"
   },
   {
    "duration": 13,
    "start_time": "2024-06-23T06:33:21.485Z"
   },
   {
    "duration": 9,
    "start_time": "2024-06-23T06:33:21.512Z"
   },
   {
    "duration": 953,
    "start_time": "2024-06-23T06:33:21.526Z"
   },
   {
    "duration": 48,
    "start_time": "2024-06-23T06:33:22.482Z"
   },
   {
    "duration": 85,
    "start_time": "2024-06-23T06:33:22.533Z"
   },
   {
    "duration": 24,
    "start_time": "2024-06-23T06:33:22.622Z"
   },
   {
    "duration": 5596,
    "start_time": "2024-06-23T06:33:22.649Z"
   },
   {
    "duration": 1144,
    "start_time": "2024-06-23T06:33:28.248Z"
   },
   {
    "duration": 15,
    "start_time": "2024-06-23T06:33:29.399Z"
   },
   {
    "duration": 616,
    "start_time": "2024-06-23T06:33:29.417Z"
   },
   {
    "duration": 6683,
    "start_time": "2024-06-23T06:33:30.037Z"
   },
   {
    "duration": 235,
    "start_time": "2024-06-23T06:33:36.723Z"
   },
   {
    "duration": 3835,
    "start_time": "2024-06-23T06:33:36.961Z"
   },
   {
    "duration": 1380,
    "start_time": "2024-06-23T06:36:23.426Z"
   },
   {
    "duration": 14,
    "start_time": "2024-06-23T06:36:24.814Z"
   },
   {
    "duration": 5,
    "start_time": "2024-06-23T06:36:24.832Z"
   },
   {
    "duration": 1127,
    "start_time": "2024-06-23T06:36:24.840Z"
   },
   {
    "duration": 47,
    "start_time": "2024-06-23T06:36:25.973Z"
   },
   {
    "duration": 68,
    "start_time": "2024-06-23T06:36:26.023Z"
   },
   {
    "duration": 40,
    "start_time": "2024-06-23T06:36:26.094Z"
   },
   {
    "duration": 5422,
    "start_time": "2024-06-23T06:36:26.137Z"
   },
   {
    "duration": 1069,
    "start_time": "2024-06-23T06:36:31.565Z"
   },
   {
    "duration": 9,
    "start_time": "2024-06-23T06:36:32.637Z"
   },
   {
    "duration": 631,
    "start_time": "2024-06-23T06:36:32.652Z"
   },
   {
    "duration": 6504,
    "start_time": "2024-06-23T06:36:33.286Z"
   },
   {
    "duration": 237,
    "start_time": "2024-06-23T06:36:39.793Z"
   },
   {
    "duration": 4,
    "start_time": "2024-06-23T06:36:40.036Z"
   },
   {
    "duration": 483,
    "start_time": "2024-06-23T06:36:40.043Z"
   },
   {
    "duration": 0,
    "start_time": "2024-06-23T06:36:40.529Z"
   },
   {
    "duration": 0,
    "start_time": "2024-06-23T06:36:40.532Z"
   },
   {
    "duration": 0,
    "start_time": "2024-06-23T06:36:40.534Z"
   },
   {
    "duration": 0,
    "start_time": "2024-06-23T06:36:40.537Z"
   },
   {
    "duration": 0,
    "start_time": "2024-06-23T06:36:40.540Z"
   },
   {
    "duration": 0,
    "start_time": "2024-06-23T06:36:40.542Z"
   },
   {
    "duration": 0,
    "start_time": "2024-06-23T06:36:40.544Z"
   },
   {
    "duration": 0,
    "start_time": "2024-06-23T06:36:40.548Z"
   },
   {
    "duration": 0,
    "start_time": "2024-06-23T06:36:40.549Z"
   },
   {
    "duration": 0,
    "start_time": "2024-06-23T06:36:40.553Z"
   },
   {
    "duration": 0,
    "start_time": "2024-06-23T06:36:40.555Z"
   },
   {
    "duration": 0,
    "start_time": "2024-06-23T06:36:40.558Z"
   },
   {
    "duration": 0,
    "start_time": "2024-06-23T06:36:40.560Z"
   },
   {
    "duration": 0,
    "start_time": "2024-06-23T06:36:40.561Z"
   },
   {
    "duration": 0,
    "start_time": "2024-06-23T06:36:40.612Z"
   },
   {
    "duration": 0,
    "start_time": "2024-06-23T06:36:40.614Z"
   },
   {
    "duration": 0,
    "start_time": "2024-06-23T06:36:40.616Z"
   },
   {
    "duration": 0,
    "start_time": "2024-06-23T06:36:40.618Z"
   },
   {
    "duration": 1,
    "start_time": "2024-06-23T06:36:40.619Z"
   },
   {
    "duration": 1,
    "start_time": "2024-06-23T06:36:40.621Z"
   },
   {
    "duration": 0,
    "start_time": "2024-06-23T06:36:40.624Z"
   },
   {
    "duration": 0,
    "start_time": "2024-06-23T06:36:40.626Z"
   },
   {
    "duration": 0,
    "start_time": "2024-06-23T06:36:40.628Z"
   },
   {
    "duration": 5968,
    "start_time": "2024-06-23T06:38:23.207Z"
   },
   {
    "duration": 44,
    "start_time": "2024-06-23T06:38:33.142Z"
   },
   {
    "duration": 52,
    "start_time": "2024-06-23T06:38:40.934Z"
   },
   {
    "duration": 6,
    "start_time": "2024-06-23T06:38:44.201Z"
   },
   {
    "duration": 4,
    "start_time": "2024-06-23T06:38:45.260Z"
   },
   {
    "duration": 8,
    "start_time": "2024-06-23T06:38:45.814Z"
   },
   {
    "duration": 8,
    "start_time": "2024-06-23T06:38:46.622Z"
   },
   {
    "duration": 9,
    "start_time": "2024-06-23T06:38:49.145Z"
   },
   {
    "duration": 353,
    "start_time": "2024-06-23T06:40:37.188Z"
   },
   {
    "duration": 70,
    "start_time": "2024-06-23T06:40:38.402Z"
   },
   {
    "duration": 925,
    "start_time": "2024-06-23T06:41:05.131Z"
   },
   {
    "duration": 28,
    "start_time": "2024-06-23T06:41:22.782Z"
   },
   {
    "duration": 7,
    "start_time": "2024-06-23T06:41:58.530Z"
   },
   {
    "duration": 27,
    "start_time": "2024-06-23T06:41:59.526Z"
   },
   {
    "duration": 1290,
    "start_time": "2024-06-23T06:49:26.514Z"
   },
   {
    "duration": 13,
    "start_time": "2024-06-23T06:49:27.807Z"
   },
   {
    "duration": 5,
    "start_time": "2024-06-23T06:49:27.822Z"
   },
   {
    "duration": 968,
    "start_time": "2024-06-23T06:49:27.832Z"
   },
   {
    "duration": 38,
    "start_time": "2024-06-23T06:49:28.811Z"
   },
   {
    "duration": 84,
    "start_time": "2024-06-23T06:49:28.853Z"
   },
   {
    "duration": 24,
    "start_time": "2024-06-23T06:49:28.940Z"
   },
   {
    "duration": 5126,
    "start_time": "2024-06-23T06:49:28.967Z"
   },
   {
    "duration": 1016,
    "start_time": "2024-06-23T06:49:34.096Z"
   },
   {
    "duration": 8,
    "start_time": "2024-06-23T06:49:35.118Z"
   },
   {
    "duration": 599,
    "start_time": "2024-06-23T06:49:35.129Z"
   },
   {
    "duration": 6555,
    "start_time": "2024-06-23T06:49:35.731Z"
   },
   {
    "duration": 237,
    "start_time": "2024-06-23T06:49:42.289Z"
   },
   {
    "duration": 5,
    "start_time": "2024-06-23T06:49:42.529Z"
   },
   {
    "duration": 5380,
    "start_time": "2024-06-23T06:49:42.537Z"
   },
   {
    "duration": 44,
    "start_time": "2024-06-23T06:49:47.920Z"
   },
   {
    "duration": 70,
    "start_time": "2024-06-23T06:49:47.967Z"
   },
   {
    "duration": 5,
    "start_time": "2024-06-23T06:49:48.043Z"
   },
   {
    "duration": 4,
    "start_time": "2024-06-23T06:49:48.051Z"
   },
   {
    "duration": 9,
    "start_time": "2024-06-23T06:49:48.058Z"
   },
   {
    "duration": 40,
    "start_time": "2024-06-23T06:49:48.071Z"
   },
   {
    "duration": 9,
    "start_time": "2024-06-23T06:49:48.114Z"
   },
   {
    "duration": 357,
    "start_time": "2024-06-23T06:49:48.126Z"
   },
   {
    "duration": 8603,
    "start_time": "2024-06-23T06:49:48.486Z"
   },
   {
    "duration": 6740,
    "start_time": "2024-06-23T06:49:57.091Z"
   },
   {
    "duration": 642,
    "start_time": "2024-06-23T06:50:03.833Z"
   },
   {
    "duration": 0,
    "start_time": "2024-06-23T06:50:04.480Z"
   },
   {
    "duration": 0,
    "start_time": "2024-06-23T06:50:04.484Z"
   },
   {
    "duration": 0,
    "start_time": "2024-06-23T06:50:04.486Z"
   },
   {
    "duration": 0,
    "start_time": "2024-06-23T06:50:04.489Z"
   },
   {
    "duration": 0,
    "start_time": "2024-06-23T06:50:04.491Z"
   },
   {
    "duration": 0,
    "start_time": "2024-06-23T06:50:04.513Z"
   },
   {
    "duration": 0,
    "start_time": "2024-06-23T06:50:04.516Z"
   },
   {
    "duration": 0,
    "start_time": "2024-06-23T06:50:04.518Z"
   },
   {
    "duration": 0,
    "start_time": "2024-06-23T06:50:04.521Z"
   },
   {
    "duration": 0,
    "start_time": "2024-06-23T06:50:04.524Z"
   },
   {
    "duration": 0,
    "start_time": "2024-06-23T06:50:04.526Z"
   },
   {
    "duration": 0,
    "start_time": "2024-06-23T06:50:04.528Z"
   },
   {
    "duration": 0,
    "start_time": "2024-06-23T06:50:04.529Z"
   },
   {
    "duration": 0,
    "start_time": "2024-06-23T06:50:04.531Z"
   },
   {
    "duration": 0,
    "start_time": "2024-06-23T06:50:04.535Z"
   },
   {
    "duration": 0,
    "start_time": "2024-06-23T06:50:04.536Z"
   },
   {
    "duration": 32,
    "start_time": "2024-06-23T06:51:21.255Z"
   },
   {
    "duration": 3702,
    "start_time": "2024-06-23T06:51:28.333Z"
   },
   {
    "duration": 5,
    "start_time": "2024-06-23T06:51:32.038Z"
   },
   {
    "duration": 3,
    "start_time": "2024-06-23T06:51:33.292Z"
   },
   {
    "duration": 5034,
    "start_time": "2024-06-23T21:19:02.524Z"
   },
   {
    "duration": 11,
    "start_time": "2024-06-23T21:19:07.564Z"
   },
   {
    "duration": 4,
    "start_time": "2024-06-23T21:19:07.578Z"
   },
   {
    "duration": 1055,
    "start_time": "2024-06-23T21:19:07.587Z"
   },
   {
    "duration": 40,
    "start_time": "2024-06-23T21:19:08.645Z"
   },
   {
    "duration": 94,
    "start_time": "2024-06-23T21:19:08.688Z"
   },
   {
    "duration": 24,
    "start_time": "2024-06-23T21:19:08.785Z"
   },
   {
    "duration": 5215,
    "start_time": "2024-06-23T21:19:08.824Z"
   },
   {
    "duration": 1013,
    "start_time": "2024-06-23T21:19:14.043Z"
   },
   {
    "duration": 9,
    "start_time": "2024-06-23T21:19:15.061Z"
   },
   {
    "duration": 564,
    "start_time": "2024-06-23T21:19:15.073Z"
   },
   {
    "duration": 6598,
    "start_time": "2024-06-23T21:19:15.640Z"
   },
   {
    "duration": 366,
    "start_time": "2024-06-23T21:19:22.242Z"
   },
   {
    "duration": 4,
    "start_time": "2024-06-23T21:19:22.612Z"
   },
   {
    "duration": 5377,
    "start_time": "2024-06-23T21:19:22.622Z"
   },
   {
    "duration": 50,
    "start_time": "2024-06-23T21:19:28.001Z"
   },
   {
    "duration": 71,
    "start_time": "2024-06-23T21:19:28.054Z"
   },
   {
    "duration": 6,
    "start_time": "2024-06-23T21:19:28.128Z"
   },
   {
    "duration": 4,
    "start_time": "2024-06-23T21:19:28.137Z"
   },
   {
    "duration": 9,
    "start_time": "2024-06-23T21:19:28.146Z"
   },
   {
    "duration": 9,
    "start_time": "2024-06-23T21:19:28.159Z"
   },
   {
    "duration": 57,
    "start_time": "2024-06-23T21:19:28.173Z"
   },
   {
    "duration": 255,
    "start_time": "2024-06-23T21:19:28.233Z"
   },
   {
    "duration": 5124,
    "start_time": "2024-06-23T21:19:28.491Z"
   },
   {
    "duration": 0,
    "start_time": "2024-06-23T21:19:33.624Z"
   },
   {
    "duration": 0,
    "start_time": "2024-06-23T21:19:33.627Z"
   },
   {
    "duration": 0,
    "start_time": "2024-06-23T21:19:33.630Z"
   },
   {
    "duration": 0,
    "start_time": "2024-06-23T21:19:33.632Z"
   },
   {
    "duration": 0,
    "start_time": "2024-06-23T21:19:33.634Z"
   },
   {
    "duration": 0,
    "start_time": "2024-06-23T21:19:33.642Z"
   },
   {
    "duration": 0,
    "start_time": "2024-06-23T21:19:33.644Z"
   },
   {
    "duration": 0,
    "start_time": "2024-06-23T21:19:33.645Z"
   },
   {
    "duration": 0,
    "start_time": "2024-06-23T21:19:33.648Z"
   },
   {
    "duration": 0,
    "start_time": "2024-06-23T21:19:33.650Z"
   },
   {
    "duration": 1,
    "start_time": "2024-06-23T21:19:33.651Z"
   },
   {
    "duration": 0,
    "start_time": "2024-06-23T21:19:33.653Z"
   },
   {
    "duration": 0,
    "start_time": "2024-06-23T21:19:33.656Z"
   },
   {
    "duration": 0,
    "start_time": "2024-06-23T21:19:33.658Z"
   },
   {
    "duration": 0,
    "start_time": "2024-06-23T21:19:33.661Z"
   },
   {
    "duration": 0,
    "start_time": "2024-06-23T21:19:33.664Z"
   },
   {
    "duration": 0,
    "start_time": "2024-06-23T21:19:33.666Z"
   },
   {
    "duration": 0,
    "start_time": "2024-06-23T21:19:33.669Z"
   },
   {
    "duration": 0,
    "start_time": "2024-06-23T21:19:33.725Z"
   },
   {
    "duration": 8914,
    "start_time": "2024-06-23T21:20:33.316Z"
   },
   {
    "duration": 26,
    "start_time": "2024-06-23T21:20:44.320Z"
   },
   {
    "duration": 3426,
    "start_time": "2024-06-23T21:21:22.998Z"
   },
   {
    "duration": 1269,
    "start_time": "2024-06-23T21:21:30.080Z"
   },
   {
    "duration": 4249,
    "start_time": "2024-06-23T21:21:57.398Z"
   },
   {
    "duration": 5,
    "start_time": "2024-06-23T21:23:04.070Z"
   },
   {
    "duration": 3,
    "start_time": "2024-06-23T21:23:05.429Z"
   },
   {
    "duration": 1284,
    "start_time": "2024-06-23T21:27:16.289Z"
   },
   {
    "duration": 11,
    "start_time": "2024-06-23T21:27:17.577Z"
   },
   {
    "duration": 5,
    "start_time": "2024-06-23T21:27:17.591Z"
   },
   {
    "duration": 974,
    "start_time": "2024-06-23T21:27:17.598Z"
   },
   {
    "duration": 48,
    "start_time": "2024-06-23T21:27:18.576Z"
   },
   {
    "duration": 70,
    "start_time": "2024-06-23T21:27:18.626Z"
   },
   {
    "duration": 44,
    "start_time": "2024-06-23T21:27:18.699Z"
   },
   {
    "duration": 5153,
    "start_time": "2024-06-23T21:27:18.746Z"
   },
   {
    "duration": 1033,
    "start_time": "2024-06-23T21:27:23.903Z"
   },
   {
    "duration": 8,
    "start_time": "2024-06-23T21:27:24.939Z"
   },
   {
    "duration": 633,
    "start_time": "2024-06-23T21:27:24.950Z"
   },
   {
    "duration": 6600,
    "start_time": "2024-06-23T21:27:25.586Z"
   },
   {
    "duration": 242,
    "start_time": "2024-06-23T21:27:32.190Z"
   },
   {
    "duration": 5,
    "start_time": "2024-06-23T21:27:32.440Z"
   },
   {
    "duration": 5454,
    "start_time": "2024-06-23T21:27:32.448Z"
   },
   {
    "duration": 52,
    "start_time": "2024-06-23T21:27:37.904Z"
   },
   {
    "duration": 67,
    "start_time": "2024-06-23T21:27:37.959Z"
   },
   {
    "duration": 7,
    "start_time": "2024-06-23T21:27:38.029Z"
   },
   {
    "duration": 4,
    "start_time": "2024-06-23T21:27:38.039Z"
   },
   {
    "duration": 8,
    "start_time": "2024-06-23T21:27:38.047Z"
   },
   {
    "duration": 7,
    "start_time": "2024-06-23T21:27:38.058Z"
   },
   {
    "duration": 56,
    "start_time": "2024-06-23T21:27:38.068Z"
   },
   {
    "duration": 352,
    "start_time": "2024-06-23T21:27:38.128Z"
   },
   {
    "duration": 8725,
    "start_time": "2024-06-23T21:27:38.483Z"
   },
   {
    "duration": 4621,
    "start_time": "2024-06-23T21:27:47.211Z"
   },
   {
    "duration": 1835,
    "start_time": "2024-06-23T21:27:51.840Z"
   },
   {
    "duration": 0,
    "start_time": "2024-06-23T21:27:53.682Z"
   },
   {
    "duration": 0,
    "start_time": "2024-06-23T21:27:53.685Z"
   },
   {
    "duration": 0,
    "start_time": "2024-06-23T21:27:53.687Z"
   },
   {
    "duration": 1,
    "start_time": "2024-06-23T21:27:53.688Z"
   },
   {
    "duration": 0,
    "start_time": "2024-06-23T21:27:53.690Z"
   },
   {
    "duration": 0,
    "start_time": "2024-06-23T21:27:53.692Z"
   },
   {
    "duration": 0,
    "start_time": "2024-06-23T21:27:53.694Z"
   },
   {
    "duration": 0,
    "start_time": "2024-06-23T21:27:53.696Z"
   },
   {
    "duration": 0,
    "start_time": "2024-06-23T21:27:53.697Z"
   },
   {
    "duration": 0,
    "start_time": "2024-06-23T21:27:53.699Z"
   },
   {
    "duration": 0,
    "start_time": "2024-06-23T21:27:53.724Z"
   },
   {
    "duration": 0,
    "start_time": "2024-06-23T21:27:53.726Z"
   },
   {
    "duration": 0,
    "start_time": "2024-06-23T21:27:53.728Z"
   },
   {
    "duration": 0,
    "start_time": "2024-06-23T21:27:53.729Z"
   },
   {
    "duration": 0,
    "start_time": "2024-06-23T21:27:53.731Z"
   },
   {
    "duration": 0,
    "start_time": "2024-06-23T21:27:53.733Z"
   },
   {
    "duration": 0,
    "start_time": "2024-06-23T21:27:53.735Z"
   },
   {
    "duration": 32,
    "start_time": "2024-06-23T21:27:59.136Z"
   },
   {
    "duration": 33,
    "start_time": "2024-06-23T21:27:59.833Z"
   },
   {
    "duration": 998,
    "start_time": "2024-06-23T21:28:14.802Z"
   },
   {
    "duration": 876,
    "start_time": "2024-06-23T21:28:51.398Z"
   },
   {
    "duration": 4379,
    "start_time": "2024-06-23T21:28:52.866Z"
   },
   {
    "duration": 9,
    "start_time": "2024-06-23T21:28:58.263Z"
   },
   {
    "duration": 744,
    "start_time": "2024-06-23T21:29:16.267Z"
   },
   {
    "duration": 49,
    "start_time": "2024-06-23T21:29:28.208Z"
   },
   {
    "duration": 1265,
    "start_time": "2024-06-23T21:51:32.526Z"
   },
   {
    "duration": 14,
    "start_time": "2024-06-23T21:51:33.796Z"
   },
   {
    "duration": 8,
    "start_time": "2024-06-23T21:51:33.823Z"
   },
   {
    "duration": 975,
    "start_time": "2024-06-23T21:51:33.836Z"
   },
   {
    "duration": 43,
    "start_time": "2024-06-23T21:51:34.815Z"
   },
   {
    "duration": 93,
    "start_time": "2024-06-23T21:51:34.861Z"
   },
   {
    "duration": 28,
    "start_time": "2024-06-23T21:51:34.957Z"
   },
   {
    "duration": 5210,
    "start_time": "2024-06-23T21:51:34.989Z"
   },
   {
    "duration": 1036,
    "start_time": "2024-06-23T21:51:40.203Z"
   },
   {
    "duration": 10,
    "start_time": "2024-06-23T21:51:41.242Z"
   },
   {
    "duration": 628,
    "start_time": "2024-06-23T21:51:41.255Z"
   },
   {
    "duration": 6614,
    "start_time": "2024-06-23T21:51:41.886Z"
   },
   {
    "duration": 238,
    "start_time": "2024-06-23T21:51:48.504Z"
   },
   {
    "duration": 4,
    "start_time": "2024-06-23T21:51:48.749Z"
   },
   {
    "duration": 5406,
    "start_time": "2024-06-23T21:51:48.756Z"
   },
   {
    "duration": 60,
    "start_time": "2024-06-23T21:51:54.164Z"
   },
   {
    "duration": 47,
    "start_time": "2024-06-23T21:51:54.227Z"
   },
   {
    "duration": 7,
    "start_time": "2024-06-23T21:51:54.277Z"
   },
   {
    "duration": 4,
    "start_time": "2024-06-23T21:51:54.286Z"
   },
   {
    "duration": 35,
    "start_time": "2024-06-23T21:51:54.293Z"
   },
   {
    "duration": 6,
    "start_time": "2024-06-23T21:51:54.332Z"
   },
   {
    "duration": 9,
    "start_time": "2024-06-23T21:51:54.341Z"
   },
   {
    "duration": 390,
    "start_time": "2024-06-23T21:51:54.353Z"
   },
   {
    "duration": 8893,
    "start_time": "2024-06-23T21:51:54.746Z"
   },
   {
    "duration": 5088,
    "start_time": "2024-06-23T21:52:03.643Z"
   },
   {
    "duration": 1878,
    "start_time": "2024-06-23T21:52:08.735Z"
   },
   {
    "duration": 0,
    "start_time": "2024-06-23T21:52:10.626Z"
   },
   {
    "duration": 0,
    "start_time": "2024-06-23T21:52:10.628Z"
   },
   {
    "duration": 0,
    "start_time": "2024-06-23T21:52:10.630Z"
   },
   {
    "duration": 0,
    "start_time": "2024-06-23T21:52:10.631Z"
   },
   {
    "duration": 0,
    "start_time": "2024-06-23T21:52:10.633Z"
   },
   {
    "duration": 0,
    "start_time": "2024-06-23T21:52:10.635Z"
   },
   {
    "duration": 0,
    "start_time": "2024-06-23T21:52:10.638Z"
   },
   {
    "duration": 0,
    "start_time": "2024-06-23T21:52:10.640Z"
   },
   {
    "duration": 0,
    "start_time": "2024-06-23T21:52:10.643Z"
   },
   {
    "duration": 0,
    "start_time": "2024-06-23T21:52:10.645Z"
   },
   {
    "duration": 0,
    "start_time": "2024-06-23T21:52:10.648Z"
   },
   {
    "duration": 0,
    "start_time": "2024-06-23T21:52:10.651Z"
   },
   {
    "duration": 0,
    "start_time": "2024-06-23T21:52:10.653Z"
   },
   {
    "duration": 0,
    "start_time": "2024-06-23T21:52:10.655Z"
   },
   {
    "duration": 0,
    "start_time": "2024-06-23T21:52:10.657Z"
   },
   {
    "duration": 0,
    "start_time": "2024-06-23T21:52:10.660Z"
   },
   {
    "duration": 1,
    "start_time": "2024-06-23T21:52:10.662Z"
   },
   {
    "duration": 0,
    "start_time": "2024-06-23T21:52:10.665Z"
   },
   {
    "duration": 0,
    "start_time": "2024-06-23T21:52:10.667Z"
   },
   {
    "duration": 0,
    "start_time": "2024-06-23T21:52:10.722Z"
   },
   {
    "duration": 4155,
    "start_time": "2024-06-23T21:52:25.728Z"
   },
   {
    "duration": 5,
    "start_time": "2024-06-23T21:52:32.003Z"
   },
   {
    "duration": 37,
    "start_time": "2024-06-23T21:52:35.940Z"
   },
   {
    "duration": 372,
    "start_time": "2024-06-23T21:52:37.828Z"
   },
   {
    "duration": 297,
    "start_time": "2024-06-23T21:53:01.536Z"
   },
   {
    "duration": 1312,
    "start_time": "2024-06-23T21:56:58.735Z"
   },
   {
    "duration": 11,
    "start_time": "2024-06-23T21:57:00.052Z"
   },
   {
    "duration": 5,
    "start_time": "2024-06-23T21:57:00.065Z"
   },
   {
    "duration": 990,
    "start_time": "2024-06-23T21:57:00.074Z"
   },
   {
    "duration": 53,
    "start_time": "2024-06-23T21:57:01.070Z"
   },
   {
    "duration": 78,
    "start_time": "2024-06-23T21:57:01.127Z"
   },
   {
    "duration": 24,
    "start_time": "2024-06-23T21:57:01.223Z"
   },
   {
    "duration": 5146,
    "start_time": "2024-06-23T21:57:01.250Z"
   },
   {
    "duration": 1045,
    "start_time": "2024-06-23T21:57:06.399Z"
   },
   {
    "duration": 8,
    "start_time": "2024-06-23T21:57:07.447Z"
   },
   {
    "duration": 644,
    "start_time": "2024-06-23T21:57:07.458Z"
   },
   {
    "duration": 6655,
    "start_time": "2024-06-23T21:57:08.105Z"
   },
   {
    "duration": 240,
    "start_time": "2024-06-23T21:57:14.763Z"
   },
   {
    "duration": 4,
    "start_time": "2024-06-23T21:57:15.011Z"
   },
   {
    "duration": 5444,
    "start_time": "2024-06-23T21:57:15.024Z"
   },
   {
    "duration": 58,
    "start_time": "2024-06-23T21:57:20.472Z"
   },
   {
    "duration": 51,
    "start_time": "2024-06-23T21:57:20.534Z"
   },
   {
    "duration": 6,
    "start_time": "2024-06-23T21:57:20.588Z"
   },
   {
    "duration": 4,
    "start_time": "2024-06-23T21:57:20.623Z"
   },
   {
    "duration": 13,
    "start_time": "2024-06-23T21:57:20.630Z"
   },
   {
    "duration": 6,
    "start_time": "2024-06-23T21:57:20.646Z"
   },
   {
    "duration": 9,
    "start_time": "2024-06-23T21:57:20.655Z"
   },
   {
    "duration": 401,
    "start_time": "2024-06-23T21:57:20.667Z"
   },
   {
    "duration": 10944,
    "start_time": "2024-06-23T21:57:21.071Z"
   },
   {
    "duration": 7120,
    "start_time": "2024-06-23T21:57:32.018Z"
   },
   {
    "duration": 1870,
    "start_time": "2024-06-23T21:57:39.222Z"
   },
   {
    "duration": 0,
    "start_time": "2024-06-23T21:57:41.096Z"
   },
   {
    "duration": 0,
    "start_time": "2024-06-23T21:57:41.097Z"
   },
   {
    "duration": 0,
    "start_time": "2024-06-23T21:57:41.100Z"
   },
   {
    "duration": 0,
    "start_time": "2024-06-23T21:57:41.103Z"
   },
   {
    "duration": 0,
    "start_time": "2024-06-23T21:57:41.106Z"
   },
   {
    "duration": 0,
    "start_time": "2024-06-23T21:57:41.123Z"
   },
   {
    "duration": 0,
    "start_time": "2024-06-23T21:57:41.126Z"
   },
   {
    "duration": 0,
    "start_time": "2024-06-23T21:57:41.128Z"
   },
   {
    "duration": 0,
    "start_time": "2024-06-23T21:57:41.130Z"
   },
   {
    "duration": 0,
    "start_time": "2024-06-23T21:57:41.132Z"
   },
   {
    "duration": 1,
    "start_time": "2024-06-23T21:57:41.134Z"
   },
   {
    "duration": 0,
    "start_time": "2024-06-23T21:57:41.138Z"
   },
   {
    "duration": 0,
    "start_time": "2024-06-23T21:57:41.139Z"
   },
   {
    "duration": 0,
    "start_time": "2024-06-23T21:57:41.141Z"
   },
   {
    "duration": 0,
    "start_time": "2024-06-23T21:57:41.144Z"
   },
   {
    "duration": 0,
    "start_time": "2024-06-23T21:57:41.146Z"
   },
   {
    "duration": 0,
    "start_time": "2024-06-23T21:57:41.148Z"
   },
   {
    "duration": 0,
    "start_time": "2024-06-23T21:57:41.150Z"
   },
   {
    "duration": 0,
    "start_time": "2024-06-23T21:57:41.152Z"
   },
   {
    "duration": 0,
    "start_time": "2024-06-23T21:57:41.155Z"
   },
   {
    "duration": 3739,
    "start_time": "2024-06-23T21:57:49.623Z"
   },
   {
    "duration": 4,
    "start_time": "2024-06-23T21:57:54.099Z"
   },
   {
    "duration": 4867,
    "start_time": "2024-06-27T01:21:03.983Z"
   },
   {
    "duration": 18,
    "start_time": "2024-06-27T01:21:08.853Z"
   },
   {
    "duration": 5,
    "start_time": "2024-06-27T01:21:08.874Z"
   },
   {
    "duration": 1012,
    "start_time": "2024-06-27T01:21:08.883Z"
   },
   {
    "duration": 40,
    "start_time": "2024-06-27T01:21:09.898Z"
   },
   {
    "duration": 71,
    "start_time": "2024-06-27T01:21:11.903Z"
   },
   {
    "duration": 4,
    "start_time": "2024-06-27T01:21:17.993Z"
   },
   {
    "duration": 5260,
    "start_time": "2024-06-27T01:21:18.371Z"
   },
   {
    "duration": 48,
    "start_time": "2024-06-27T01:21:23.634Z"
   },
   {
    "duration": 51,
    "start_time": "2024-06-27T01:21:23.685Z"
   },
   {
    "duration": 705,
    "start_time": "2024-06-27T01:21:26.050Z"
   },
   {
    "duration": 8413,
    "start_time": "2024-06-27T01:21:32.734Z"
   },
   {
    "duration": 4186,
    "start_time": "2024-06-27T01:21:46.787Z"
   },
   {
    "duration": 442,
    "start_time": "2024-06-27T01:21:53.997Z"
   },
   {
    "duration": 31,
    "start_time": "2024-06-27T01:22:00.495Z"
   },
   {
    "duration": 1309,
    "start_time": "2024-06-27T01:22:06.450Z"
   },
   {
    "duration": 8419,
    "start_time": "2024-06-27T01:22:21.819Z"
   },
   {
    "duration": 31,
    "start_time": "2024-06-27T01:33:15.529Z"
   },
   {
    "duration": 5823,
    "start_time": "2024-06-27T01:33:24.753Z"
   },
   {
    "duration": 1064,
    "start_time": "2024-06-27T01:33:34.189Z"
   },
   {
    "duration": 4371,
    "start_time": "2024-06-27T01:35:51.151Z"
   },
   {
    "duration": 5,
    "start_time": "2024-06-27T01:35:55.525Z"
   },
   {
    "duration": 275690,
    "start_time": "2024-06-27T01:35:55.532Z"
   },
   {
    "duration": 0,
    "start_time": "2024-06-27T01:40:31.225Z"
   },
   {
    "duration": 0,
    "start_time": "2024-06-27T01:40:31.226Z"
   },
   {
    "duration": 34,
    "start_time": "2024-06-27T01:46:13.118Z"
   },
   {
    "duration": 67,
    "start_time": "2024-06-27T01:46:15.703Z"
   },
   {
    "duration": 279,
    "start_time": "2024-06-27T01:46:16.038Z"
   },
   {
    "duration": 5008,
    "start_time": "2024-06-27T05:28:32.022Z"
   },
   {
    "duration": 12,
    "start_time": "2024-06-27T05:28:37.033Z"
   },
   {
    "duration": 4,
    "start_time": "2024-06-27T05:28:37.048Z"
   },
   {
    "duration": 1059,
    "start_time": "2024-06-27T05:28:37.058Z"
   },
   {
    "duration": 43,
    "start_time": "2024-06-27T05:28:38.119Z"
   },
   {
    "duration": 104,
    "start_time": "2024-06-27T05:28:38.166Z"
   },
   {
    "duration": 24,
    "start_time": "2024-06-27T05:28:38.276Z"
   },
   {
    "duration": 5176,
    "start_time": "2024-06-27T05:28:38.303Z"
   },
   {
    "duration": 1057,
    "start_time": "2024-06-27T05:28:43.482Z"
   },
   {
    "duration": 8,
    "start_time": "2024-06-27T05:28:44.544Z"
   },
   {
    "duration": 559,
    "start_time": "2024-06-27T05:28:44.555Z"
   },
   {
    "duration": 6584,
    "start_time": "2024-06-27T05:28:45.118Z"
   },
   {
    "duration": 388,
    "start_time": "2024-06-27T05:28:51.706Z"
   },
   {
    "duration": 4,
    "start_time": "2024-06-27T05:28:52.098Z"
   },
   {
    "duration": 5406,
    "start_time": "2024-06-27T05:28:52.106Z"
   },
   {
    "duration": 52,
    "start_time": "2024-06-27T05:28:57.515Z"
   },
   {
    "duration": 63,
    "start_time": "2024-06-27T05:28:57.570Z"
   },
   {
    "duration": 6,
    "start_time": "2024-06-27T05:28:57.635Z"
   },
   {
    "duration": 4,
    "start_time": "2024-06-27T05:28:57.644Z"
   },
   {
    "duration": 8,
    "start_time": "2024-06-27T05:28:57.651Z"
   },
   {
    "duration": 6,
    "start_time": "2024-06-27T05:28:57.662Z"
   },
   {
    "duration": 58,
    "start_time": "2024-06-27T05:28:57.672Z"
   },
   {
    "duration": 244,
    "start_time": "2024-06-27T05:28:57.733Z"
   },
   {
    "duration": 9010,
    "start_time": "2024-06-27T05:28:57.980Z"
   },
   {
    "duration": 5252,
    "start_time": "2024-06-27T05:29:06.992Z"
   },
   {
    "duration": 1755,
    "start_time": "2024-06-27T05:29:12.248Z"
   },
   {
    "duration": 0,
    "start_time": "2024-06-27T05:29:14.008Z"
   },
   {
    "duration": 0,
    "start_time": "2024-06-27T05:29:14.010Z"
   },
   {
    "duration": 0,
    "start_time": "2024-06-27T05:29:14.013Z"
   },
   {
    "duration": 0,
    "start_time": "2024-06-27T05:29:14.030Z"
   },
   {
    "duration": 0,
    "start_time": "2024-06-27T05:29:14.032Z"
   },
   {
    "duration": 0,
    "start_time": "2024-06-27T05:29:14.035Z"
   },
   {
    "duration": 0,
    "start_time": "2024-06-27T05:29:14.038Z"
   },
   {
    "duration": 0,
    "start_time": "2024-06-27T05:29:14.040Z"
   },
   {
    "duration": 0,
    "start_time": "2024-06-27T05:29:14.042Z"
   },
   {
    "duration": 0,
    "start_time": "2024-06-27T05:29:14.044Z"
   },
   {
    "duration": 0,
    "start_time": "2024-06-27T05:29:14.047Z"
   },
   {
    "duration": 0,
    "start_time": "2024-06-27T05:29:14.049Z"
   },
   {
    "duration": 0,
    "start_time": "2024-06-27T05:29:14.052Z"
   },
   {
    "duration": 0,
    "start_time": "2024-06-27T05:29:14.054Z"
   },
   {
    "duration": 1,
    "start_time": "2024-06-27T05:29:14.056Z"
   },
   {
    "duration": 0,
    "start_time": "2024-06-27T05:29:14.059Z"
   },
   {
    "duration": 0,
    "start_time": "2024-06-27T05:29:14.062Z"
   },
   {
    "duration": 0,
    "start_time": "2024-06-27T05:29:14.064Z"
   },
   {
    "duration": 1,
    "start_time": "2024-06-27T05:29:14.066Z"
   },
   {
    "duration": 0,
    "start_time": "2024-06-27T05:29:14.069Z"
   },
   {
    "duration": 4191,
    "start_time": "2024-06-27T05:54:35.216Z"
   },
   {
    "duration": 7,
    "start_time": "2024-06-27T05:54:40.849Z"
   },
   {
    "duration": 1278,
    "start_time": "2024-06-27T06:02:50.117Z"
   },
   {
    "duration": 14,
    "start_time": "2024-06-27T06:02:51.400Z"
   },
   {
    "duration": 18,
    "start_time": "2024-06-27T06:02:51.417Z"
   },
   {
    "duration": 982,
    "start_time": "2024-06-27T06:02:51.438Z"
   },
   {
    "duration": 45,
    "start_time": "2024-06-27T06:02:52.425Z"
   },
   {
    "duration": 96,
    "start_time": "2024-06-27T06:02:52.474Z"
   },
   {
    "duration": 25,
    "start_time": "2024-06-27T06:02:52.573Z"
   },
   {
    "duration": 5097,
    "start_time": "2024-06-27T06:02:52.602Z"
   },
   {
    "duration": 1039,
    "start_time": "2024-06-27T06:02:57.702Z"
   },
   {
    "duration": 7,
    "start_time": "2024-06-27T06:02:58.744Z"
   },
   {
    "duration": 609,
    "start_time": "2024-06-27T06:02:58.755Z"
   },
   {
    "duration": 6708,
    "start_time": "2024-06-27T06:02:59.367Z"
   },
   {
    "duration": 240,
    "start_time": "2024-06-27T06:03:06.078Z"
   },
   {
    "duration": 9,
    "start_time": "2024-06-27T06:03:06.324Z"
   },
   {
    "duration": 5336,
    "start_time": "2024-06-27T06:03:06.336Z"
   },
   {
    "duration": 60,
    "start_time": "2024-06-27T06:03:11.675Z"
   },
   {
    "duration": 56,
    "start_time": "2024-06-27T06:03:11.739Z"
   },
   {
    "duration": 30,
    "start_time": "2024-06-27T06:03:11.800Z"
   },
   {
    "duration": 4,
    "start_time": "2024-06-27T06:03:11.833Z"
   },
   {
    "duration": 9,
    "start_time": "2024-06-27T06:03:11.841Z"
   },
   {
    "duration": 13,
    "start_time": "2024-06-27T06:03:11.853Z"
   },
   {
    "duration": 10,
    "start_time": "2024-06-27T06:03:11.872Z"
   },
   {
    "duration": 404,
    "start_time": "2024-06-27T06:03:11.886Z"
   },
   {
    "duration": 7,
    "start_time": "2024-06-27T06:03:12.295Z"
   },
   {
    "duration": 690,
    "start_time": "2024-06-27T06:03:12.306Z"
   },
   {
    "duration": 0,
    "start_time": "2024-06-27T06:03:13.000Z"
   },
   {
    "duration": 0,
    "start_time": "2024-06-27T06:03:13.002Z"
   },
   {
    "duration": 0,
    "start_time": "2024-06-27T06:03:13.006Z"
   },
   {
    "duration": 0,
    "start_time": "2024-06-27T06:03:13.007Z"
   },
   {
    "duration": 0,
    "start_time": "2024-06-27T06:03:13.009Z"
   },
   {
    "duration": 0,
    "start_time": "2024-06-27T06:03:13.033Z"
   },
   {
    "duration": 0,
    "start_time": "2024-06-27T06:03:13.036Z"
   },
   {
    "duration": 0,
    "start_time": "2024-06-27T06:03:13.038Z"
   },
   {
    "duration": 0,
    "start_time": "2024-06-27T06:03:13.040Z"
   },
   {
    "duration": 0,
    "start_time": "2024-06-27T06:03:13.043Z"
   },
   {
    "duration": 0,
    "start_time": "2024-06-27T06:03:13.044Z"
   },
   {
    "duration": 0,
    "start_time": "2024-06-27T06:03:13.047Z"
   },
   {
    "duration": 0,
    "start_time": "2024-06-27T06:03:13.049Z"
   },
   {
    "duration": 0,
    "start_time": "2024-06-27T06:03:13.051Z"
   },
   {
    "duration": 0,
    "start_time": "2024-06-27T06:03:13.053Z"
   },
   {
    "duration": 0,
    "start_time": "2024-06-27T06:03:13.056Z"
   },
   {
    "duration": 0,
    "start_time": "2024-06-27T06:03:13.058Z"
   },
   {
    "duration": 0,
    "start_time": "2024-06-27T06:03:13.060Z"
   },
   {
    "duration": 0,
    "start_time": "2024-06-27T06:03:13.062Z"
   },
   {
    "duration": 0,
    "start_time": "2024-06-27T06:03:13.064Z"
   },
   {
    "duration": 0,
    "start_time": "2024-06-27T06:03:13.066Z"
   },
   {
    "duration": 0,
    "start_time": "2024-06-27T06:03:13.068Z"
   },
   {
    "duration": 0,
    "start_time": "2024-06-27T06:03:13.070Z"
   },
   {
    "duration": 3746,
    "start_time": "2024-06-27T06:04:04.296Z"
   },
   {
    "duration": 4,
    "start_time": "2024-06-27T06:04:09.092Z"
   },
   {
    "duration": 1393,
    "start_time": "2024-06-28T02:27:47.927Z"
   },
   {
    "duration": 12,
    "start_time": "2024-06-28T02:27:49.324Z"
   },
   {
    "duration": 5,
    "start_time": "2024-06-28T02:27:49.340Z"
   },
   {
    "duration": 1085,
    "start_time": "2024-06-28T02:27:51.232Z"
   },
   {
    "duration": 41,
    "start_time": "2024-06-28T02:27:52.320Z"
   },
   {
    "duration": 78,
    "start_time": "2024-06-28T02:27:52.811Z"
   },
   {
    "duration": 26,
    "start_time": "2024-06-28T02:27:54.275Z"
   },
   {
    "duration": 290,
    "start_time": "2024-06-28T02:27:58.863Z"
   },
   {
    "duration": 5,
    "start_time": "2024-06-28T02:28:00.486Z"
   },
   {
    "duration": 5471,
    "start_time": "2024-06-28T02:28:00.927Z"
   },
   {
    "duration": 44,
    "start_time": "2024-06-28T02:28:06.401Z"
   },
   {
    "duration": 51,
    "start_time": "2024-06-28T02:28:39.068Z"
   },
   {
    "duration": 4301,
    "start_time": "2024-06-28T02:28:43.607Z"
   },
   {
    "duration": 5,
    "start_time": "2024-06-28T02:28:47.912Z"
   },
   {
    "duration": 5413,
    "start_time": "2024-06-28T19:21:24.906Z"
   },
   {
    "duration": 12,
    "start_time": "2024-06-28T19:21:30.323Z"
   },
   {
    "duration": 5,
    "start_time": "2024-06-28T19:21:30.338Z"
   },
   {
    "duration": 1089,
    "start_time": "2024-06-28T19:21:30.347Z"
   },
   {
    "duration": 39,
    "start_time": "2024-06-28T19:21:31.439Z"
   },
   {
    "duration": 5,
    "start_time": "2024-06-28T19:21:46.457Z"
   },
   {
    "duration": 5299,
    "start_time": "2024-06-28T19:21:46.678Z"
   },
   {
    "duration": 51,
    "start_time": "2024-06-28T19:21:51.980Z"
   },
   {
    "duration": 55,
    "start_time": "2024-06-28T19:21:52.033Z"
   },
   {
    "duration": 4468,
    "start_time": "2024-06-28T19:21:54.572Z"
   },
   {
    "duration": 5,
    "start_time": "2024-06-28T19:21:59.044Z"
   },
   {
    "duration": 41,
    "start_time": "2024-06-28T19:22:08.690Z"
   },
   {
    "duration": 8,
    "start_time": "2024-06-28T19:22:15.709Z"
   },
   {
    "duration": 4,
    "start_time": "2024-06-28T19:23:27.456Z"
   },
   {
    "duration": 79249,
    "start_time": "2024-06-28T19:23:36.742Z"
   },
   {
    "duration": 66000,
    "start_time": "2024-06-28T19:25:49.166Z"
   },
   {
    "duration": 33,
    "start_time": "2024-06-28T19:27:19.773Z"
   },
   {
    "duration": 5,
    "start_time": "2024-06-28T19:27:22.345Z"
   },
   {
    "duration": 541639,
    "start_time": "2024-06-28T19:27:22.863Z"
   },
   {
    "duration": 5,
    "start_time": "2024-06-28T19:37:11.030Z"
   },
   {
    "duration": 10,
    "start_time": "2024-06-28T19:37:11.185Z"
   },
   {
    "duration": 5,
    "start_time": "2024-06-28T19:37:11.343Z"
   },
   {
    "duration": 957,
    "start_time": "2024-06-28T19:37:11.908Z"
   },
   {
    "duration": 53,
    "start_time": "2024-06-28T19:37:12.868Z"
   },
   {
    "duration": 90,
    "start_time": "2024-06-28T19:37:12.924Z"
   },
   {
    "duration": 30,
    "start_time": "2024-06-28T19:37:13.018Z"
   },
   {
    "duration": 24,
    "start_time": "2024-06-28T19:37:20.858Z"
   },
   {
    "duration": 4,
    "start_time": "2024-06-28T19:37:23.564Z"
   },
   {
    "duration": 5387,
    "start_time": "2024-06-28T19:37:24.287Z"
   },
   {
    "duration": 48,
    "start_time": "2024-06-28T19:37:29.678Z"
   },
   {
    "duration": 61,
    "start_time": "2024-06-28T19:37:29.729Z"
   },
   {
    "duration": 4,
    "start_time": "2024-06-28T19:37:35.244Z"
   },
   {
    "duration": 3,
    "start_time": "2024-06-28T19:37:35.435Z"
   },
   {
    "duration": 7,
    "start_time": "2024-06-28T19:37:35.997Z"
   },
   {
    "duration": 6,
    "start_time": "2024-06-28T19:37:36.814Z"
   },
   {
    "duration": 9,
    "start_time": "2024-06-28T19:37:36.925Z"
   },
   {
    "duration": 678,
    "start_time": "2024-06-28T19:37:40.490Z"
   },
   {
    "duration": 5,
    "start_time": "2024-06-28T19:37:41.284Z"
   },
   {
    "duration": 1069040,
    "start_time": "2024-06-28T19:37:43.635Z"
   },
   {
    "duration": 8685,
    "start_time": "2024-06-28T19:55:32.679Z"
   },
   {
    "duration": 5462,
    "start_time": "2024-06-28T19:55:41.367Z"
   },
   {
    "duration": 1284,
    "start_time": "2024-06-28T19:55:46.833Z"
   },
   {
    "duration": 8697,
    "start_time": "2024-06-28T19:59:26.513Z"
   },
   {
    "duration": 5401,
    "start_time": "2024-06-28T19:59:35.214Z"
   },
   {
    "duration": 66,
    "start_time": "2024-06-28T20:00:09.344Z"
   },
   {
    "duration": 8811,
    "start_time": "2024-06-28T20:00:09.591Z"
   },
   {
    "duration": 65356,
    "start_time": "2024-06-28T20:00:18.405Z"
   },
   {
    "duration": 5285,
    "start_time": "2024-06-29T05:08:28.910Z"
   },
   {
    "duration": 24,
    "start_time": "2024-06-29T05:08:34.199Z"
   },
   {
    "duration": 5,
    "start_time": "2024-06-29T05:08:34.226Z"
   },
   {
    "duration": 1097,
    "start_time": "2024-06-29T05:08:34.237Z"
   },
   {
    "duration": 42,
    "start_time": "2024-06-29T05:08:35.337Z"
   },
   {
    "duration": 97,
    "start_time": "2024-06-29T05:08:35.382Z"
   },
   {
    "duration": 25,
    "start_time": "2024-06-29T05:08:35.482Z"
   },
   {
    "duration": 5458,
    "start_time": "2024-06-29T05:08:35.525Z"
   },
   {
    "duration": 1093,
    "start_time": "2024-06-29T05:08:40.987Z"
   },
   {
    "duration": 9,
    "start_time": "2024-06-29T05:08:42.088Z"
   },
   {
    "duration": 550,
    "start_time": "2024-06-29T05:08:42.100Z"
   },
   {
    "duration": 6818,
    "start_time": "2024-06-29T05:08:42.653Z"
   },
   {
    "duration": 399,
    "start_time": "2024-06-29T05:08:49.475Z"
   },
   {
    "duration": 5,
    "start_time": "2024-06-29T05:08:49.878Z"
   },
   {
    "duration": 5509,
    "start_time": "2024-06-29T05:08:49.886Z"
   },
   {
    "duration": 55,
    "start_time": "2024-06-29T05:08:55.398Z"
   },
   {
    "duration": 70,
    "start_time": "2024-06-29T05:08:55.457Z"
   },
   {
    "duration": 7,
    "start_time": "2024-06-29T05:08:55.530Z"
   },
   {
    "duration": 4,
    "start_time": "2024-06-29T05:08:55.540Z"
   },
   {
    "duration": 8,
    "start_time": "2024-06-29T05:08:55.549Z"
   },
   {
    "duration": 7,
    "start_time": "2024-06-29T05:08:55.560Z"
   },
   {
    "duration": 55,
    "start_time": "2024-06-29T05:08:55.570Z"
   },
   {
    "duration": 310,
    "start_time": "2024-06-29T05:08:55.628Z"
   },
   {
    "duration": 6,
    "start_time": "2024-06-29T05:08:55.941Z"
   },
   {
    "duration": 828,
    "start_time": "2024-06-29T05:08:55.950Z"
   },
   {
    "duration": 0,
    "start_time": "2024-06-29T05:08:56.783Z"
   },
   {
    "duration": 0,
    "start_time": "2024-06-29T05:08:56.784Z"
   },
   {
    "duration": 0,
    "start_time": "2024-06-29T05:08:56.787Z"
   },
   {
    "duration": 0,
    "start_time": "2024-06-29T05:08:56.789Z"
   },
   {
    "duration": 0,
    "start_time": "2024-06-29T05:08:56.791Z"
   },
   {
    "duration": 0,
    "start_time": "2024-06-29T05:08:56.793Z"
   },
   {
    "duration": 0,
    "start_time": "2024-06-29T05:08:56.796Z"
   },
   {
    "duration": 0,
    "start_time": "2024-06-29T05:08:56.822Z"
   },
   {
    "duration": 0,
    "start_time": "2024-06-29T05:08:56.825Z"
   },
   {
    "duration": 0,
    "start_time": "2024-06-29T05:08:56.827Z"
   },
   {
    "duration": 0,
    "start_time": "2024-06-29T05:08:56.830Z"
   },
   {
    "duration": 0,
    "start_time": "2024-06-29T05:08:56.832Z"
   },
   {
    "duration": 0,
    "start_time": "2024-06-29T05:08:56.835Z"
   },
   {
    "duration": 0,
    "start_time": "2024-06-29T05:08:56.837Z"
   },
   {
    "duration": 0,
    "start_time": "2024-06-29T05:08:56.839Z"
   },
   {
    "duration": 0,
    "start_time": "2024-06-29T05:08:56.842Z"
   },
   {
    "duration": 0,
    "start_time": "2024-06-29T05:08:56.843Z"
   },
   {
    "duration": 0,
    "start_time": "2024-06-29T05:08:56.845Z"
   },
   {
    "duration": 1,
    "start_time": "2024-06-29T05:08:56.846Z"
   },
   {
    "duration": 0,
    "start_time": "2024-06-29T05:08:56.849Z"
   },
   {
    "duration": 0,
    "start_time": "2024-06-29T05:08:56.852Z"
   },
   {
    "duration": 0,
    "start_time": "2024-06-29T05:08:56.854Z"
   },
   {
    "duration": 0,
    "start_time": "2024-06-29T05:08:56.856Z"
   },
   {
    "duration": 0,
    "start_time": "2024-06-29T05:08:56.858Z"
   },
   {
    "duration": 1377,
    "start_time": "2024-06-29T05:09:39.327Z"
   },
   {
    "duration": 21,
    "start_time": "2024-06-29T05:09:40.708Z"
   },
   {
    "duration": 5,
    "start_time": "2024-06-29T05:09:40.732Z"
   },
   {
    "duration": 1013,
    "start_time": "2024-06-29T05:09:40.741Z"
   },
   {
    "duration": 40,
    "start_time": "2024-06-29T05:09:41.758Z"
   },
   {
    "duration": 94,
    "start_time": "2024-06-29T05:09:41.801Z"
   },
   {
    "duration": 39,
    "start_time": "2024-06-29T05:09:41.899Z"
   },
   {
    "duration": 5377,
    "start_time": "2024-06-29T05:09:41.942Z"
   },
   {
    "duration": 1123,
    "start_time": "2024-06-29T05:09:47.323Z"
   },
   {
    "duration": 9,
    "start_time": "2024-06-29T05:09:48.450Z"
   },
   {
    "duration": 667,
    "start_time": "2024-06-29T05:09:48.463Z"
   },
   {
    "duration": 6723,
    "start_time": "2024-06-29T05:09:49.134Z"
   },
   {
    "duration": 248,
    "start_time": "2024-06-29T05:09:55.860Z"
   },
   {
    "duration": 5,
    "start_time": "2024-06-29T05:09:56.122Z"
   },
   {
    "duration": 5460,
    "start_time": "2024-06-29T05:09:56.132Z"
   },
   {
    "duration": 55,
    "start_time": "2024-06-29T05:10:01.595Z"
   },
   {
    "duration": 70,
    "start_time": "2024-06-29T05:10:01.653Z"
   },
   {
    "duration": 6,
    "start_time": "2024-06-29T05:10:01.726Z"
   },
   {
    "duration": 5,
    "start_time": "2024-06-29T05:10:01.735Z"
   },
   {
    "duration": 9,
    "start_time": "2024-06-29T05:10:01.744Z"
   },
   {
    "duration": 7,
    "start_time": "2024-06-29T05:10:01.756Z"
   },
   {
    "duration": 56,
    "start_time": "2024-06-29T05:10:01.767Z"
   },
   {
    "duration": 387,
    "start_time": "2024-06-29T05:10:01.826Z"
   },
   {
    "duration": 11,
    "start_time": "2024-06-29T05:10:02.216Z"
   },
   {
    "duration": 738,
    "start_time": "2024-06-29T05:10:02.230Z"
   },
   {
    "duration": 0,
    "start_time": "2024-06-29T05:10:02.973Z"
   },
   {
    "duration": 0,
    "start_time": "2024-06-29T05:10:02.977Z"
   },
   {
    "duration": 0,
    "start_time": "2024-06-29T05:10:02.979Z"
   },
   {
    "duration": 0,
    "start_time": "2024-06-29T05:10:02.983Z"
   },
   {
    "duration": 0,
    "start_time": "2024-06-29T05:10:02.986Z"
   },
   {
    "duration": 0,
    "start_time": "2024-06-29T05:10:02.989Z"
   },
   {
    "duration": 0,
    "start_time": "2024-06-29T05:10:02.991Z"
   },
   {
    "duration": 0,
    "start_time": "2024-06-29T05:10:03.022Z"
   },
   {
    "duration": 0,
    "start_time": "2024-06-29T05:10:03.024Z"
   },
   {
    "duration": 0,
    "start_time": "2024-06-29T05:10:03.026Z"
   },
   {
    "duration": 0,
    "start_time": "2024-06-29T05:10:03.028Z"
   },
   {
    "duration": 0,
    "start_time": "2024-06-29T05:10:03.031Z"
   },
   {
    "duration": 0,
    "start_time": "2024-06-29T05:10:03.033Z"
   },
   {
    "duration": 0,
    "start_time": "2024-06-29T05:10:03.036Z"
   },
   {
    "duration": 0,
    "start_time": "2024-06-29T05:10:03.039Z"
   },
   {
    "duration": 0,
    "start_time": "2024-06-29T05:10:03.044Z"
   },
   {
    "duration": 0,
    "start_time": "2024-06-29T05:10:03.047Z"
   },
   {
    "duration": 0,
    "start_time": "2024-06-29T05:10:03.050Z"
   },
   {
    "duration": 0,
    "start_time": "2024-06-29T05:10:03.052Z"
   },
   {
    "duration": 0,
    "start_time": "2024-06-29T05:10:03.054Z"
   },
   {
    "duration": 0,
    "start_time": "2024-06-29T05:10:03.056Z"
   },
   {
    "duration": 0,
    "start_time": "2024-06-29T05:10:03.059Z"
   },
   {
    "duration": 0,
    "start_time": "2024-06-29T05:10:03.122Z"
   },
   {
    "duration": 0,
    "start_time": "2024-06-29T05:10:03.125Z"
   },
   {
    "duration": 9,
    "start_time": "2024-06-29T05:10:28.505Z"
   },
   {
    "duration": 55503,
    "start_time": "2024-06-29T05:10:29.413Z"
   },
   {
    "duration": 1365,
    "start_time": "2024-06-29T05:12:02.951Z"
   },
   {
    "duration": 12,
    "start_time": "2024-06-29T05:12:04.322Z"
   },
   {
    "duration": 5,
    "start_time": "2024-06-29T05:12:04.337Z"
   },
   {
    "duration": 1018,
    "start_time": "2024-06-29T05:12:04.345Z"
   },
   {
    "duration": 55,
    "start_time": "2024-06-29T05:12:05.369Z"
   },
   {
    "duration": 99,
    "start_time": "2024-06-29T05:12:05.428Z"
   },
   {
    "duration": 26,
    "start_time": "2024-06-29T05:12:05.530Z"
   },
   {
    "duration": 5428,
    "start_time": "2024-06-29T05:12:05.559Z"
   },
   {
    "duration": 1077,
    "start_time": "2024-06-29T05:12:10.991Z"
   },
   {
    "duration": 9,
    "start_time": "2024-06-29T05:12:12.071Z"
   },
   {
    "duration": 675,
    "start_time": "2024-06-29T05:12:12.084Z"
   },
   {
    "duration": 6965,
    "start_time": "2024-06-29T05:12:12.762Z"
   },
   {
    "duration": 267,
    "start_time": "2024-06-29T05:12:19.733Z"
   },
   {
    "duration": 5,
    "start_time": "2024-06-29T05:12:20.007Z"
   },
   {
    "duration": 5470,
    "start_time": "2024-06-29T05:12:20.023Z"
   },
   {
    "duration": 57,
    "start_time": "2024-06-29T05:12:25.496Z"
   },
   {
    "duration": 70,
    "start_time": "2024-06-29T05:12:25.556Z"
   },
   {
    "duration": 7,
    "start_time": "2024-06-29T05:12:25.629Z"
   },
   {
    "duration": 9,
    "start_time": "2024-06-29T05:12:25.638Z"
   },
   {
    "duration": 8,
    "start_time": "2024-06-29T05:12:25.650Z"
   },
   {
    "duration": 7,
    "start_time": "2024-06-29T05:12:25.661Z"
   },
   {
    "duration": 57,
    "start_time": "2024-06-29T05:12:25.672Z"
   },
   {
    "duration": 414,
    "start_time": "2024-06-29T05:12:25.733Z"
   },
   {
    "duration": 4,
    "start_time": "2024-06-29T05:12:26.150Z"
   },
   {
    "duration": 54746,
    "start_time": "2024-06-29T05:12:26.159Z"
   },
   {
    "duration": 9132,
    "start_time": "2024-06-29T05:13:20.908Z"
   },
   {
    "duration": 3381,
    "start_time": "2024-06-29T05:13:30.043Z"
   },
   {
    "duration": 1238,
    "start_time": "2024-06-29T05:13:33.427Z"
   },
   {
    "duration": 6448,
    "start_time": "2024-06-29T05:13:34.668Z"
   },
   {
    "duration": 5,
    "start_time": "2024-06-29T05:13:41.119Z"
   },
   {
    "duration": 1107925,
    "start_time": "2024-06-29T05:13:41.128Z"
   },
   {
    "duration": 9181,
    "start_time": "2024-06-29T05:32:09.057Z"
   },
   {
    "duration": 6004,
    "start_time": "2024-06-29T05:32:18.242Z"
   },
   {
    "duration": 1218,
    "start_time": "2024-06-29T05:32:24.249Z"
   },
   {
    "duration": 37,
    "start_time": "2024-06-29T05:32:25.470Z"
   },
   {
    "duration": 9198,
    "start_time": "2024-06-29T05:32:25.510Z"
   },
   {
    "duration": 70027,
    "start_time": "2024-06-29T05:32:34.711Z"
   },
   {
    "duration": 2330,
    "start_time": "2024-06-29T05:33:44.741Z"
   },
   {
    "duration": 340,
    "start_time": "2024-06-29T05:33:47.074Z"
   },
   {
    "duration": 327,
    "start_time": "2024-06-29T05:40:39.279Z"
   },
   {
    "duration": 1410,
    "start_time": "2024-06-29T05:40:53.006Z"
   },
   {
    "duration": 12,
    "start_time": "2024-06-29T05:40:54.420Z"
   },
   {
    "duration": 8,
    "start_time": "2024-06-29T05:40:54.435Z"
   },
   {
    "duration": 1092,
    "start_time": "2024-06-29T05:40:54.446Z"
   },
   {
    "duration": 42,
    "start_time": "2024-06-29T05:40:55.543Z"
   },
   {
    "duration": 96,
    "start_time": "2024-06-29T05:40:55.588Z"
   },
   {
    "duration": 41,
    "start_time": "2024-06-29T05:40:55.688Z"
   },
   {
    "duration": 5559,
    "start_time": "2024-06-29T05:40:55.733Z"
   },
   {
    "duration": 1080,
    "start_time": "2024-06-29T05:41:01.295Z"
   },
   {
    "duration": 8,
    "start_time": "2024-06-29T05:41:02.378Z"
   },
   {
    "duration": 659,
    "start_time": "2024-06-29T05:41:02.390Z"
   },
   {
    "duration": 6920,
    "start_time": "2024-06-29T05:41:03.054Z"
   },
   {
    "duration": 268,
    "start_time": "2024-06-29T05:41:09.978Z"
   },
   {
    "duration": 5,
    "start_time": "2024-06-29T05:41:10.253Z"
   },
   {
    "duration": 5382,
    "start_time": "2024-06-29T05:41:10.261Z"
   },
   {
    "duration": 47,
    "start_time": "2024-06-29T05:41:15.646Z"
   },
   {
    "duration": 71,
    "start_time": "2024-06-29T05:41:15.696Z"
   },
   {
    "duration": 7,
    "start_time": "2024-06-29T05:41:15.770Z"
   },
   {
    "duration": 4,
    "start_time": "2024-06-29T05:41:15.783Z"
   },
   {
    "duration": 38,
    "start_time": "2024-06-29T05:41:15.791Z"
   },
   {
    "duration": 6,
    "start_time": "2024-06-29T05:41:15.832Z"
   },
   {
    "duration": 10,
    "start_time": "2024-06-29T05:41:15.842Z"
   },
   {
    "duration": 494,
    "start_time": "2024-06-29T05:41:15.855Z"
   },
   {
    "duration": 5,
    "start_time": "2024-06-29T05:41:16.352Z"
   },
   {
    "duration": 54544,
    "start_time": "2024-06-29T05:41:16.360Z"
   },
   {
    "duration": 9163,
    "start_time": "2024-06-29T05:42:10.908Z"
   },
   {
    "duration": 3851,
    "start_time": "2024-06-29T05:42:20.074Z"
   },
   {
    "duration": 1224,
    "start_time": "2024-06-29T05:42:23.930Z"
   },
   {
    "duration": 6405,
    "start_time": "2024-06-29T05:42:25.157Z"
   },
   {
    "duration": 6,
    "start_time": "2024-06-29T05:42:31.566Z"
   },
   {
    "duration": 1106732,
    "start_time": "2024-06-29T05:42:31.575Z"
   },
   {
    "duration": 9387,
    "start_time": "2024-06-29T06:00:58.310Z"
   },
   {
    "duration": 5426,
    "start_time": "2024-06-29T06:01:07.700Z"
   },
   {
    "duration": 1248,
    "start_time": "2024-06-29T06:01:13.136Z"
   },
   {
    "duration": 46,
    "start_time": "2024-06-29T06:01:14.387Z"
   },
   {
    "duration": 9139,
    "start_time": "2024-06-29T06:01:14.436Z"
   },
   {
    "duration": 70581,
    "start_time": "2024-06-29T06:01:23.578Z"
   },
   {
    "duration": 2363,
    "start_time": "2024-06-29T06:02:34.163Z"
   },
   {
    "duration": 315,
    "start_time": "2024-06-29T06:02:36.529Z"
   },
   {
    "duration": 2265,
    "start_time": "2024-06-29T06:02:52.422Z"
   },
   {
    "duration": 7301,
    "start_time": "2024-06-29T06:02:58.361Z"
   },
   {
    "duration": 9,
    "start_time": "2024-06-29T06:03:08.619Z"
   },
   {
    "duration": 735,
    "start_time": "2024-06-29T06:03:11.867Z"
   },
   {
    "duration": 671,
    "start_time": "2024-06-29T06:03:22.666Z"
   },
   {
    "duration": 1331,
    "start_time": "2024-06-29T06:03:32.069Z"
   },
   {
    "duration": 13,
    "start_time": "2024-06-29T06:03:35.047Z"
   },
   {
    "duration": 4,
    "start_time": "2024-06-29T06:03:36.867Z"
   },
   {
    "duration": 1136,
    "start_time": "2024-06-29T06:03:39.304Z"
   },
   {
    "duration": 41,
    "start_time": "2024-06-29T06:03:40.443Z"
   },
   {
    "duration": 75,
    "start_time": "2024-06-29T06:03:41.281Z"
   },
   {
    "duration": 25,
    "start_time": "2024-06-29T06:03:41.995Z"
   },
   {
    "duration": 5384,
    "start_time": "2024-06-29T06:03:44.212Z"
   },
   {
    "duration": 1080,
    "start_time": "2024-06-29T06:03:49.599Z"
   },
   {
    "duration": 9,
    "start_time": "2024-06-29T06:03:50.682Z"
   },
   {
    "duration": 656,
    "start_time": "2024-06-29T06:03:50.696Z"
   },
   {
    "duration": 6843,
    "start_time": "2024-06-29T06:03:51.357Z"
   },
   {
    "duration": 257,
    "start_time": "2024-06-29T06:03:58.204Z"
   },
   {
    "duration": 5,
    "start_time": "2024-06-29T06:03:58.464Z"
   },
   {
    "duration": 5458,
    "start_time": "2024-06-29T06:03:58.473Z"
   },
   {
    "duration": 47,
    "start_time": "2024-06-29T06:04:03.934Z"
   },
   {
    "duration": 75,
    "start_time": "2024-06-29T06:04:03.986Z"
   },
   {
    "duration": 1072,
    "start_time": "2024-06-29T06:04:08.702Z"
   },
   {
    "duration": 4391,
    "start_time": "2024-06-29T06:04:10.788Z"
   },
   {
    "duration": 9,
    "start_time": "2024-06-29T06:04:15.183Z"
   },
   {
    "duration": 1476,
    "start_time": "2024-06-29T06:04:15.197Z"
   },
   {
    "duration": 34,
    "start_time": "2024-06-29T06:04:27.278Z"
   },
   {
    "duration": 35,
    "start_time": "2024-06-29T06:04:57.035Z"
   },
   {
    "duration": 19,
    "start_time": "2024-06-29T06:05:00.886Z"
   },
   {
    "duration": 361,
    "start_time": "2024-06-29T15:15:05.509Z"
   },
   {
    "duration": 5446,
    "start_time": "2024-07-02T04:36:43.825Z"
   },
   {
    "duration": 11,
    "start_time": "2024-07-02T04:36:49.939Z"
   },
   {
    "duration": 5,
    "start_time": "2024-07-02T04:36:51.362Z"
   },
   {
    "duration": 1039,
    "start_time": "2024-07-02T04:36:54.887Z"
   },
   {
    "duration": 37,
    "start_time": "2024-07-02T04:36:56.519Z"
   },
   {
    "duration": 68,
    "start_time": "2024-07-02T04:36:58.512Z"
   },
   {
    "duration": 31,
    "start_time": "2024-07-02T04:36:59.272Z"
   },
   {
    "duration": 5131,
    "start_time": "2024-07-02T04:37:01.107Z"
   },
   {
    "duration": 1015,
    "start_time": "2024-07-02T04:37:06.242Z"
   },
   {
    "duration": 8,
    "start_time": "2024-07-02T04:37:07.260Z"
   },
   {
    "duration": 554,
    "start_time": "2024-07-02T04:37:07.272Z"
   },
   {
    "duration": 6572,
    "start_time": "2024-07-02T04:37:07.832Z"
   },
   {
    "duration": 337,
    "start_time": "2024-07-02T04:37:14.407Z"
   },
   {
    "duration": 4,
    "start_time": "2024-07-02T04:37:14.747Z"
   },
   {
    "duration": 5373,
    "start_time": "2024-07-02T04:37:14.755Z"
   },
   {
    "duration": 50,
    "start_time": "2024-07-02T04:37:20.133Z"
   },
   {
    "duration": 70,
    "start_time": "2024-07-02T04:37:20.190Z"
   },
   {
    "duration": 6,
    "start_time": "2024-07-02T04:37:20.263Z"
   },
   {
    "duration": 4,
    "start_time": "2024-07-02T04:37:20.272Z"
   },
   {
    "duration": 8,
    "start_time": "2024-07-02T04:37:20.280Z"
   },
   {
    "duration": 43,
    "start_time": "2024-07-02T04:37:20.290Z"
   },
   {
    "duration": 9,
    "start_time": "2024-07-02T04:37:20.337Z"
   },
   {
    "duration": 259,
    "start_time": "2024-07-02T04:37:20.349Z"
   },
   {
    "duration": 4,
    "start_time": "2024-07-02T04:37:20.612Z"
   },
   {
    "duration": 53655,
    "start_time": "2024-07-02T04:37:20.633Z"
   },
   {
    "duration": 8524,
    "start_time": "2024-07-02T04:38:14.290Z"
   },
   {
    "duration": 3424,
    "start_time": "2024-07-02T04:38:22.817Z"
   },
   {
    "duration": 1152,
    "start_time": "2024-07-02T04:38:26.249Z"
   },
   {
    "duration": 3662,
    "start_time": "2024-07-02T04:38:27.404Z"
   },
   {
    "duration": 5,
    "start_time": "2024-07-02T04:38:31.069Z"
   },
   {
    "duration": 1307,
    "start_time": "2024-07-02T04:50:00.430Z"
   },
   {
    "duration": 13,
    "start_time": "2024-07-02T04:50:01.740Z"
   },
   {
    "duration": 5,
    "start_time": "2024-07-02T04:50:01.756Z"
   },
   {
    "duration": 988,
    "start_time": "2024-07-02T04:50:01.766Z"
   },
   {
    "duration": 39,
    "start_time": "2024-07-02T04:50:02.757Z"
   },
   {
    "duration": 92,
    "start_time": "2024-07-02T04:50:02.799Z"
   },
   {
    "duration": 24,
    "start_time": "2024-07-02T04:50:02.894Z"
   },
   {
    "duration": 5164,
    "start_time": "2024-07-02T04:50:02.921Z"
   },
   {
    "duration": 1060,
    "start_time": "2024-07-02T04:50:08.088Z"
   },
   {
    "duration": 8,
    "start_time": "2024-07-02T04:50:09.154Z"
   },
   {
    "duration": 629,
    "start_time": "2024-07-02T04:50:09.165Z"
   },
   {
    "duration": 6579,
    "start_time": "2024-07-02T04:50:09.797Z"
   },
   {
    "duration": 264,
    "start_time": "2024-07-02T04:50:16.380Z"
   },
   {
    "duration": 4,
    "start_time": "2024-07-02T04:50:16.647Z"
   },
   {
    "duration": 5293,
    "start_time": "2024-07-02T04:50:16.655Z"
   },
   {
    "duration": 45,
    "start_time": "2024-07-02T04:50:21.957Z"
   },
   {
    "duration": 65,
    "start_time": "2024-07-02T04:50:22.006Z"
   },
   {
    "duration": 6,
    "start_time": "2024-07-02T04:50:22.074Z"
   },
   {
    "duration": 4,
    "start_time": "2024-07-02T04:50:22.083Z"
   },
   {
    "duration": 9,
    "start_time": "2024-07-02T04:50:22.090Z"
   },
   {
    "duration": 7,
    "start_time": "2024-07-02T04:50:22.133Z"
   },
   {
    "duration": 9,
    "start_time": "2024-07-02T04:50:22.146Z"
   },
   {
    "duration": 379,
    "start_time": "2024-07-02T04:50:22.158Z"
   },
   {
    "duration": 5,
    "start_time": "2024-07-02T04:50:22.539Z"
   },
   {
    "duration": 54989,
    "start_time": "2024-07-02T04:50:22.548Z"
   },
   {
    "duration": 8682,
    "start_time": "2024-07-02T04:51:17.540Z"
   },
   {
    "duration": 4709,
    "start_time": "2024-07-02T04:51:26.224Z"
   },
   {
    "duration": 1208,
    "start_time": "2024-07-02T04:51:30.944Z"
   },
   {
    "duration": 3837,
    "start_time": "2024-07-02T04:51:32.155Z"
   },
   {
    "duration": 5,
    "start_time": "2024-07-02T04:51:35.994Z"
   },
   {
    "duration": 1212,
    "start_time": "2024-07-02T04:59:39.462Z"
   },
   {
    "duration": 11,
    "start_time": "2024-07-02T04:59:40.678Z"
   },
   {
    "duration": 3,
    "start_time": "2024-07-02T04:59:40.693Z"
   },
   {
    "duration": 998,
    "start_time": "2024-07-02T04:59:40.701Z"
   },
   {
    "duration": 49,
    "start_time": "2024-07-02T04:59:41.702Z"
   },
   {
    "duration": 82,
    "start_time": "2024-07-02T04:59:41.753Z"
   },
   {
    "duration": 24,
    "start_time": "2024-07-02T04:59:41.841Z"
   },
   {
    "duration": 5145,
    "start_time": "2024-07-02T04:59:41.868Z"
   },
   {
    "duration": 1029,
    "start_time": "2024-07-02T04:59:47.017Z"
   },
   {
    "duration": 7,
    "start_time": "2024-07-02T04:59:48.052Z"
   },
   {
    "duration": 595,
    "start_time": "2024-07-02T04:59:48.063Z"
   },
   {
    "duration": 6579,
    "start_time": "2024-07-02T04:59:48.661Z"
   },
   {
    "duration": 272,
    "start_time": "2024-07-02T04:59:55.244Z"
   },
   {
    "duration": 4,
    "start_time": "2024-07-02T04:59:55.519Z"
   },
   {
    "duration": 5343,
    "start_time": "2024-07-02T04:59:55.533Z"
   },
   {
    "duration": 61,
    "start_time": "2024-07-02T05:00:00.880Z"
   },
   {
    "duration": 52,
    "start_time": "2024-07-02T05:00:00.944Z"
   },
   {
    "duration": 6,
    "start_time": "2024-07-02T05:00:00.998Z"
   },
   {
    "duration": 28,
    "start_time": "2024-07-02T05:00:01.007Z"
   },
   {
    "duration": 9,
    "start_time": "2024-07-02T05:00:01.038Z"
   },
   {
    "duration": 6,
    "start_time": "2024-07-02T05:00:01.050Z"
   },
   {
    "duration": 9,
    "start_time": "2024-07-02T05:00:01.059Z"
   },
   {
    "duration": 402,
    "start_time": "2024-07-02T05:00:01.071Z"
   },
   {
    "duration": 4,
    "start_time": "2024-07-02T05:00:01.475Z"
   },
   {
    "duration": 54447,
    "start_time": "2024-07-02T05:00:01.482Z"
   },
   {
    "duration": 8561,
    "start_time": "2024-07-02T05:00:55.933Z"
   },
   {
    "duration": 3650,
    "start_time": "2024-07-02T05:01:04.497Z"
   },
   {
    "duration": 1101,
    "start_time": "2024-07-02T05:01:08.232Z"
   },
   {
    "duration": 3866,
    "start_time": "2024-07-02T05:01:09.335Z"
   },
   {
    "duration": 6,
    "start_time": "2024-07-02T05:01:13.205Z"
   },
   {
    "duration": 1272,
    "start_time": "2024-07-02T05:16:17.240Z"
   },
   {
    "duration": 17,
    "start_time": "2024-07-02T05:16:18.516Z"
   },
   {
    "duration": 4,
    "start_time": "2024-07-02T05:16:18.536Z"
   },
   {
    "duration": 966,
    "start_time": "2024-07-02T05:16:18.545Z"
   },
   {
    "duration": 42,
    "start_time": "2024-07-02T05:16:19.514Z"
   },
   {
    "duration": 86,
    "start_time": "2024-07-02T05:16:19.558Z"
   },
   {
    "duration": 24,
    "start_time": "2024-07-02T05:16:19.647Z"
   },
   {
    "duration": 5233,
    "start_time": "2024-07-02T05:16:19.676Z"
   },
   {
    "duration": 1021,
    "start_time": "2024-07-02T05:16:24.912Z"
   },
   {
    "duration": 8,
    "start_time": "2024-07-02T05:16:25.939Z"
   },
   {
    "duration": 608,
    "start_time": "2024-07-02T05:16:25.952Z"
   },
   {
    "duration": 6459,
    "start_time": "2024-07-02T05:16:26.563Z"
   },
   {
    "duration": 233,
    "start_time": "2024-07-02T05:16:33.033Z"
   },
   {
    "duration": 5,
    "start_time": "2024-07-02T05:16:33.269Z"
   },
   {
    "duration": 5324,
    "start_time": "2024-07-02T05:16:33.277Z"
   },
   {
    "duration": 54,
    "start_time": "2024-07-02T05:16:38.604Z"
   },
   {
    "duration": 47,
    "start_time": "2024-07-02T05:16:38.661Z"
   },
   {
    "duration": 5,
    "start_time": "2024-07-02T05:16:38.732Z"
   },
   {
    "duration": 4,
    "start_time": "2024-07-02T05:16:38.740Z"
   },
   {
    "duration": 8,
    "start_time": "2024-07-02T05:16:38.748Z"
   },
   {
    "duration": 6,
    "start_time": "2024-07-02T05:16:38.758Z"
   },
   {
    "duration": 8,
    "start_time": "2024-07-02T05:16:38.767Z"
   },
   {
    "duration": 392,
    "start_time": "2024-07-02T05:16:38.779Z"
   },
   {
    "duration": 5,
    "start_time": "2024-07-02T05:16:39.174Z"
   },
   {
    "duration": 54929,
    "start_time": "2024-07-02T05:16:39.182Z"
   },
   {
    "duration": 8761,
    "start_time": "2024-07-02T05:17:34.115Z"
   },
   {
    "duration": 3275,
    "start_time": "2024-07-02T05:17:42.879Z"
   },
   {
    "duration": 1171,
    "start_time": "2024-07-02T05:17:46.237Z"
   },
   {
    "duration": 3765,
    "start_time": "2024-07-02T05:17:47.411Z"
   },
   {
    "duration": 4,
    "start_time": "2024-07-02T05:17:51.179Z"
   },
   {
    "duration": 1093549,
    "start_time": "2024-07-02T05:17:51.187Z"
   },
   {
    "duration": 9428,
    "start_time": "2024-07-02T05:36:04.739Z"
   },
   {
    "duration": 6686,
    "start_time": "2024-07-02T05:36:14.171Z"
   },
   {
    "duration": 1246,
    "start_time": "2024-07-02T05:36:20.861Z"
   },
   {
    "duration": 50,
    "start_time": "2024-07-02T05:36:22.110Z"
   },
   {
    "duration": 9411,
    "start_time": "2024-07-02T05:36:22.164Z"
   },
   {
    "duration": 78962,
    "start_time": "2024-07-02T05:36:31.578Z"
   },
   {
    "duration": 2881,
    "start_time": "2024-07-02T05:37:50.543Z"
   },
   {
    "duration": 256,
    "start_time": "2024-07-02T05:37:53.433Z"
   },
   {
    "duration": 342,
    "start_time": "2024-07-02T05:38:06.032Z"
   },
   {
    "duration": 1425,
    "start_time": "2024-07-02T05:38:20.522Z"
   },
   {
    "duration": 13,
    "start_time": "2024-07-02T05:38:21.951Z"
   },
   {
    "duration": 4,
    "start_time": "2024-07-02T05:38:22.094Z"
   },
   {
    "duration": 1462,
    "start_time": "2024-07-02T05:38:23.476Z"
   },
   {
    "duration": 65,
    "start_time": "2024-07-02T05:38:24.944Z"
   },
   {
    "duration": 128,
    "start_time": "2024-07-02T05:38:25.013Z"
   },
   {
    "duration": 34,
    "start_time": "2024-07-02T05:38:25.145Z"
   },
   {
    "duration": 6334,
    "start_time": "2024-07-02T05:38:25.647Z"
   },
   {
    "duration": 1248,
    "start_time": "2024-07-02T05:38:31.985Z"
   },
   {
    "duration": 9,
    "start_time": "2024-07-02T05:38:33.240Z"
   },
   {
    "duration": 769,
    "start_time": "2024-07-02T05:38:33.255Z"
   },
   {
    "duration": 6894,
    "start_time": "2024-07-02T05:38:34.027Z"
   },
   {
    "duration": 278,
    "start_time": "2024-07-02T05:38:40.925Z"
   },
   {
    "duration": 5,
    "start_time": "2024-07-02T05:38:41.206Z"
   },
   {
    "duration": 5671,
    "start_time": "2024-07-02T05:38:41.215Z"
   },
   {
    "duration": 63,
    "start_time": "2024-07-02T05:38:46.889Z"
   },
   {
    "duration": 50,
    "start_time": "2024-07-02T05:38:46.958Z"
   },
   {
    "duration": 28,
    "start_time": "2024-07-02T05:38:47.011Z"
   },
   {
    "duration": 5,
    "start_time": "2024-07-02T05:38:47.042Z"
   },
   {
    "duration": 9,
    "start_time": "2024-07-02T05:38:47.051Z"
   },
   {
    "duration": 7,
    "start_time": "2024-07-02T05:38:47.063Z"
   },
   {
    "duration": 13,
    "start_time": "2024-07-02T05:38:47.074Z"
   },
   {
    "duration": 460,
    "start_time": "2024-07-02T05:38:47.089Z"
   },
   {
    "duration": 5,
    "start_time": "2024-07-02T05:38:47.555Z"
   },
   {
    "duration": 61434,
    "start_time": "2024-07-02T05:38:47.564Z"
   },
   {
    "duration": 9455,
    "start_time": "2024-07-02T05:39:49.004Z"
   },
   {
    "duration": 6892,
    "start_time": "2024-07-02T05:39:58.462Z"
   },
   {
    "duration": 1225,
    "start_time": "2024-07-02T05:40:05.432Z"
   },
   {
    "duration": 4249,
    "start_time": "2024-07-02T05:40:06.661Z"
   },
   {
    "duration": 6,
    "start_time": "2024-07-02T05:40:10.913Z"
   },
   {
    "duration": 1168373,
    "start_time": "2024-07-02T05:40:10.923Z"
   },
   {
    "duration": 9619,
    "start_time": "2024-07-02T05:59:39.301Z"
   },
   {
    "duration": 4035,
    "start_time": "2024-07-02T05:59:48.924Z"
   },
   {
    "duration": 1187,
    "start_time": "2024-07-02T05:59:53.034Z"
   },
   {
    "duration": 35,
    "start_time": "2024-07-02T05:59:54.233Z"
   },
   {
    "duration": 9320,
    "start_time": "2024-07-02T05:59:54.271Z"
   },
   {
    "duration": 84867,
    "start_time": "2024-07-02T06:00:03.594Z"
   },
   {
    "duration": 2600,
    "start_time": "2024-07-02T06:01:28.465Z"
   },
   {
    "duration": 54,
    "start_time": "2024-07-02T06:02:48.810Z"
   },
   {
    "duration": 912,
    "start_time": "2024-07-02T06:02:59.832Z"
   },
   {
    "duration": 8,
    "start_time": "2024-07-02T06:03:48.770Z"
   },
   {
    "duration": 42,
    "start_time": "2024-07-02T06:03:55.819Z"
   },
   {
    "duration": 10,
    "start_time": "2024-07-02T06:06:12.221Z"
   },
   {
    "duration": 50,
    "start_time": "2024-07-02T06:06:23.229Z"
   },
   {
    "duration": 40,
    "start_time": "2024-07-02T06:07:21.207Z"
   },
   {
    "duration": 57,
    "start_time": "2024-07-02T06:07:31.033Z"
   }
  ],
  "kernelspec": {
   "display_name": "Python 3 (ipykernel)",
   "language": "python",
   "name": "python3"
  },
  "language_info": {
   "codemirror_mode": {
    "name": "ipython",
    "version": 3
   },
   "file_extension": ".py",
   "mimetype": "text/x-python",
   "name": "python",
   "nbconvert_exporter": "python",
   "pygments_lexer": "ipython3",
   "version": "3.9.19"
  },
  "toc": {
   "base_numbering": 1,
   "nav_menu": {},
   "number_sections": true,
   "sideBar": true,
   "skip_h1_title": true,
   "title_cell": "Table of Contents",
   "title_sidebar": "Contents",
   "toc_cell": false,
   "toc_position": {},
   "toc_section_display": true,
   "toc_window_display": false
  },
  "vscode": {
   "interpreter": {
    "hash": "ac629f305345b17df6668bc9b17021b4f12075c260532782c34ed55a489bc20f"
   }
  }
 },
 "nbformat": 4,
 "nbformat_minor": 4
}
